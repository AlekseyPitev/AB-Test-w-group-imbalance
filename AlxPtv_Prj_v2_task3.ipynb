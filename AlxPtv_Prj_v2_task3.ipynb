{
 "cells": [
  {
   "cell_type": "markdown",
   "metadata": {},
   "source": [
    "### Задача 3.1\n",
    "Реализуйте функцию, которая будет автоматически подгружать информацию из дополнительного файла groups_add.csv (заголовки могут отличаться) и на основании дополнительных параметров пересчитывать метрики."
   ]
  },
  {
   "cell_type": "code",
   "execution_count": 2,
   "metadata": {},
   "outputs": [],
   "source": [
    "import pandas as pd\n",
    "import seaborn as sns\n",
    "import matplotlib.pyplot as plt\n",
    "from urllib.parse import urlencode\n",
    "import requests"
   ]
  },
  {
   "cell_type": "code",
   "execution_count": 3,
   "metadata": {},
   "outputs": [],
   "source": [
    "def metcalcnewdata(dop_path, osn_path, stud_path, check_path, metrix=None):\n",
    "    'Функция считывает переданные по 4 параметрам датасеты и на основании параметров пересчитыватет метрики'\n",
    "    try: df_dop = pd.read_csv(dop_path)\n",
    "    except FileNotFoundError: return \"Файл не найден\"\n",
    "    \n",
    "    # Проверка структуры данных (если столбцов 2 и 1 из них целочисленного типа, другой - строкого, то\n",
    "    # происходит переименование соот-но в 'id' и 'grp')\n",
    "    if len(df_dop.columns) != 2 or df_dop.dtypes.nunique() != 2:\n",
    "        return \"Ошибка структуры данных\"\n",
    "    id_col = df_dop.select_dtypes(include=['int', 'int64']).columns.tolist()\n",
    "    grp_col = df_dop.select_dtypes(include=['object']).columns.tolist()\n",
    "    if len(id_col) != 1 or len(grp_col) != 1:\n",
    "        return \"Ошибка структуры данных\"\n",
    "    df_dop.rename(columns={id_col[0]: 'id', grp_col[0]: 'grp'}, inplace=True)\n",
    "    \n",
    "#     загрузка прочих данных\n",
    "    try: groupdf = pd.read_csv(osn_path, sep = ';')\n",
    "    except FileNotFoundError: return \"Файл не найден\"\n",
    "    try: studdf = pd.read_csv(stud_path)\n",
    "    except FileNotFoundError: return \"Файл не найден\"\n",
    "    try: checkdf = pd.read_csv(check_path, sep = ';')\n",
    "    except FileNotFoundError: return \"Файл не найден\"    \n",
    "    \n",
    "#     добавляем поля и соединяем данные о гр польз-лей\n",
    "    df_dop['dop'] = 1\n",
    "    groupdf['dop'] = 0\n",
    "    df = groupdf.append(df_dop, ignore_index=True)\n",
    "    df['grp_dig'] = df['grp'].apply(lambda x: 0 if x == 'A' else 1)\n",
    "    \n",
    "#     соединим с данными об активности и покупках польз-лей\n",
    "    checkdf = checkdf.rename(columns={'student_id': 'pay_id'})\n",
    "    t2 = studdf.merge(checkdf, how = 'left', left_on='student_id', right_on='pay_id')\n",
    "    t2['rev'].fillna(0, inplace=True)\n",
    "    df = df.merge(t2, how = 'left', left_on='id', right_on='student_id')\n",
    "    df['active'] = df['student_id'].apply(lambda x: 0 if pd.isna(x) else 1)\n",
    "    df['is_check'] = df['pay_id'].apply(lambda x: 0 if pd.isna(x) else 1)\n",
    "    df.rename(columns={'student_id': 'act_id'}, inplace=True)\n",
    "    \n",
    "#     считаем метрики только для основной части данных\n",
    "    df_by_gr_base = df[df['dop'] == 0].groupby('grp', as_index = False). \\\n",
    "                    agg(grp_dig = ('grp_dig', 'mean'), \n",
    "                        stud_count = ('id', 'count'), \n",
    "                        CR_act = ('active', 'mean'), \n",
    "                        act_count = ('act_id', 'count'), \n",
    "                        CR_pay = ('is_check', 'mean'), \n",
    "                        pay_count = ('pay_id', 'count'),\n",
    "                        rev_sum = ('rev', 'sum'))\n",
    "    \n",
    "#     считаем метрики на всех данных (с доп данными)\n",
    "    df_by_gr = df.groupby('grp', as_index = False).agg(grp_dig = ('grp_dig', 'mean'), stud_count = ('id', 'count'), \n",
    "                                        CR_act = ('active', 'mean'), act_count = ('act_id', 'count'), \n",
    "                                        CR_pay = ('is_check', 'mean'), pay_count = ('pay_id', 'count'),\n",
    "                                       rev_sum = ('rev', 'sum'))    \n",
    "    \n",
    "#     производные метрики считаем только если их надо выводить (в зависимости от параметров ф-ции)\n",
    "    if metrix is None or 'CR_pay_act' in metrix: \n",
    "        df_by_gr_base['CR_pay_act'] = df_by_gr_base['pay_count'] / df_by_gr_base['act_count']\n",
    "        df_by_gr['CR_pay_act'] = df_by_gr['pay_count'] / df_by_gr['act_count']\n",
    "        \n",
    "    if metrix is None or 'ARPU' in metrix:\n",
    "        df_by_gr_base['ARPU'] = df_by_gr_base['rev_sum'] / df_by_gr_base['stud_count']\n",
    "        df_by_gr['ARPU'] = df_by_gr['rev_sum'] / df_by_gr['stud_count']\n",
    "    \n",
    "    if metrix is None or 'ARPAU' in metrix:\n",
    "        df_by_gr_base['ARPAU'] = df_by_gr_base['rev_sum'] / df_by_gr_base['act_count']\n",
    "        df_by_gr['ARPAU'] = df_by_gr['rev_sum'] / df_by_gr['act_count']\n",
    "        \n",
    "    if metrix is None or 'ARPPU' in metrix:\n",
    "        df_by_gr_base['ARPPU'] = df_by_gr_base['rev_sum'] / df_by_gr_base['pay_count']\n",
    "        df_by_gr['ARPPU'] = df_by_gr['rev_sum'] / df_by_gr['pay_count']\n",
    "\n",
    "    df_by_gr_base['data_type'] = 'base'\n",
    "    df_by_gr['data_type'] = 'all'\n",
    "    df_by_gr = df_by_gr_base.append(df_by_gr, ignore_index=True)\n",
    "    \n",
    "    if metrix is None:\n",
    "        return df_by_gr\n",
    "    else:\n",
    "        col2show = ['grp', 'data_type'] + [col for col in metrix if col in df_by_gr.columns]\n",
    "        return df_by_gr[col2show]"
   ]
  },
  {
   "cell_type": "markdown",
   "metadata": {},
   "source": [
    "функция metcalcnewdata запускается с 4мя обязательными параметрами: \n",
    "\n",
    "dop_path - путь к дополнительному файлу с информацией о принадлежности пользователя к группам groups_add.csv\n",
    "\n",
    "osn_path - путь к основному файлу с информацией о принадлежности пользователя к группам groups.csv\n",
    "\n",
    "stud_path - путь к файлу с информацией о пользователях, которые зашли на платформу в дни проведения эксперимента active_studs.csv\n",
    "\n",
    "check_path - путь к файлу с информацией об оплатах пользователей в дни проведения эксперимента checks.csv\n",
    "\n",
    "и одним необязательным:\n",
    "metrix (по умолчанию не задан) - список (или кортеж или сет) с набором метрик например `['ARPAU', 'ARPU', 'ARPPU']`, если параметр не задан - выводятся все метрики, в противном случае - те, что указаны в параметре metrix. \n",
    "\n",
    "Перечень метрик:\n",
    "\n",
    "'stud_count' - количество пользователей\n",
    "\n",
    "'act_count' - количество активных пользователей\n",
    "\n",
    "'pay_count' - количество пользователей, совершивших покупки\n",
    "\n",
    "'rev_sum' - сумма платежей по группе\n",
    "\n",
    "'CR_act' - конверсия пользователей в активных пользователей\n",
    "\n",
    "'CR_pay' - конверсия пользователей в пользователей, совершивших покупки  \n",
    "\n",
    "'CR_pay_act' - конверсия активных пользователей в пользователей, совершивших покупки \n",
    "\n",
    "'ARPU' - средний чек на пользователя\n",
    "\n",
    "'ARPAU' - средний чек на активного пользователя\n",
    "\n",
    "'ARPPU' - средний чек на пользователя, совершившего покупки\n",
    "\n",
    "помимо метрик выводятся столбцы:\n",
    "\n",
    "'grp' - принадлежность пользователя к группе тестирования\n",
    "\n",
    "'data_type' - происхождение данных для обработки: полученны из основного файла (base) или полные, из основного и дополнительного (all)"
   ]
  },
  {
   "cell_type": "markdown",
   "metadata": {},
   "source": [
    "### Задача 3.2\n",
    "Реализуйте функцию, которая будет строить графики по получаемым метрикам."
   ]
  },
  {
   "cell_type": "code",
   "execution_count": 4,
   "metadata": {},
   "outputs": [],
   "source": [
    "def metrix_graf(df = metcalcnewdata(dop_path, osn_path, stud_path, check_path), metrix=['stud_count']):\n",
    "    '''Функция строит графики (барчарты) метрик, на основе датафрейма (1й параметр) и \n",
    "    указанных метрик (2й параметр в виде списка)'''\n",
    "    plt.figure(figsize=(4, 6))\n",
    "    for metric in metrix:\n",
    "        plt.figure()\n",
    "        ax = sns.barplot(x='grp', y=metric, hue='data_type', data=df, dodge=True)\n",
    "        plt.legend(loc='lower right')\n",
    "        for p in ax.patches: # подписи к барам\n",
    "            por = '.0f' if metric.endswith('_count') else '.5f' if metric.startswith('CR_') else '.3f'\n",
    "            ax.annotate(format(p.get_height(), por), (p.get_x() + p.get_width() / 2., p.get_height()), \n",
    "                        ha='center', va='center', xytext=(0, -10), textcoords='offset points')    "
   ]
  },
  {
   "cell_type": "markdown",
   "metadata": {},
   "source": [
    "функция metrix_graf запускается с двумя параметрами:\n",
    "\n",
    "df - обязательный - датафрейм для обработки, формата выгружаемого функцией metcalcnewdata \n",
    "\n",
    "metrix - список (кортеж или сет) с набором метрик например `['ARPAU', 'ARPU', 'ARPPU']`, если параметр не задан - строится один график по метрике 'stud_count', в противном случае строятся графики по метрикам указанными в списке metrix.\n",
    "\n",
    "Графики выводятся в виде барчарта: слева 2 барчарта по метрике для группы A (по основному файлу (base) и полным данным (all)), справа 2 барчарта по метрике для группы B\n",
    "\n",
    "Список возможных метрик:\n",
    "\n",
    "'stud_count' - количество пользователей\n",
    "\n",
    "'act_count' - количество активных пользователей\n",
    "\n",
    "'pay_count' - количество пользователей, совершивших покупки\n",
    "\n",
    "'rev_sum' - сумма платежей по группе\n",
    "\n",
    "'CR_act' - конверсия пользователей в активных пользователей\n",
    "\n",
    "'CR_pay' - конверсия пользователей в пользователей, совершивших покупки  \n",
    "\n",
    "'CR_pay_act' - конверсия активных пользователей в пользователей, совершивших покупки \n",
    "\n",
    "'ARPU' - средний чек на пользователя\n",
    "\n",
    "'ARPAU' - средний чек на активного пользователя\n",
    "\n",
    "'ARPPU' - средний чек на пользователя, совершившего покупки\n"
   ]
  },
  {
   "cell_type": "markdown",
   "metadata": {},
   "source": [
    "#### примеры вызова функции metcalcnewdata:"
   ]
  },
  {
   "cell_type": "code",
   "execution_count": 6,
   "metadata": {
    "scrolled": true
   },
   "outputs": [
    {
     "data": {
      "text/html": [
       "<div>\n",
       "<style scoped>\n",
       "    .dataframe tbody tr th:only-of-type {\n",
       "        vertical-align: middle;\n",
       "    }\n",
       "\n",
       "    .dataframe tbody tr th {\n",
       "        vertical-align: top;\n",
       "    }\n",
       "\n",
       "    .dataframe thead th {\n",
       "        text-align: right;\n",
       "    }\n",
       "</style>\n",
       "<table border=\"1\" class=\"dataframe\">\n",
       "  <thead>\n",
       "    <tr style=\"text-align: right;\">\n",
       "      <th></th>\n",
       "      <th>grp</th>\n",
       "      <th>data_type</th>\n",
       "      <th>CR_act</th>\n",
       "      <th>CR_pay</th>\n",
       "      <th>ARPPU</th>\n",
       "      <th>ARPAU</th>\n",
       "      <th>ARPU</th>\n",
       "    </tr>\n",
       "  </thead>\n",
       "  <tbody>\n",
       "    <tr>\n",
       "      <th>0</th>\n",
       "      <td>A</td>\n",
       "      <td>base</td>\n",
       "      <td>0.104628</td>\n",
       "      <td>0.005317</td>\n",
       "      <td>933.589744</td>\n",
       "      <td>47.439739</td>\n",
       "      <td>4.963534</td>\n",
       "    </tr>\n",
       "    <tr>\n",
       "      <th>1</th>\n",
       "      <td>B</td>\n",
       "      <td>base</td>\n",
       "      <td>0.113571</td>\n",
       "      <td>0.005233</td>\n",
       "      <td>1255.827487</td>\n",
       "      <td>57.864567</td>\n",
       "      <td>6.571715</td>\n",
       "    </tr>\n",
       "    <tr>\n",
       "      <th>2</th>\n",
       "      <td>A</td>\n",
       "      <td>all</td>\n",
       "      <td>0.104676</td>\n",
       "      <td>0.005309</td>\n",
       "      <td>933.589744</td>\n",
       "      <td>47.347204</td>\n",
       "      <td>4.956102</td>\n",
       "    </tr>\n",
       "    <tr>\n",
       "      <th>3</th>\n",
       "      <td>B</td>\n",
       "      <td>all</td>\n",
       "      <td>0.113605</td>\n",
       "      <td>0.005244</td>\n",
       "      <td>1257.878992</td>\n",
       "      <td>58.058798</td>\n",
       "      <td>6.595762</td>\n",
       "    </tr>\n",
       "  </tbody>\n",
       "</table>\n",
       "</div>"
      ],
      "text/plain": [
       "  grp data_type    CR_act    CR_pay        ARPPU      ARPAU      ARPU\n",
       "0   A      base  0.104628  0.005317   933.589744  47.439739  4.963534\n",
       "1   B      base  0.113571  0.005233  1255.827487  57.864567  6.571715\n",
       "2   A       all  0.104676  0.005309   933.589744  47.347204  4.956102\n",
       "3   B       all  0.113605  0.005244  1257.878992  58.058798  6.595762"
      ]
     },
     "execution_count": 6,
     "metadata": {},
     "output_type": "execute_result"
    }
   ],
   "source": [
    "# для загрузки с ЯД (иногда заканчивается лимит на скачивания):\n",
    "# base_url = 'https://cloud-api.yandex.net/v1/disk/public/resources/download?'\n",
    "# dop_path = requests.get(base_url + urlencode(dict(public_key='https://disk.yandex.ru/d/5Kxrz02m3IBUwQ'))).json()['href']\n",
    "# osn_path = requests.get(base_url + urlencode(dict(public_key='https://disk.yandex.ru/d/UhyYx41rTt3clQ'))).json()['href']\n",
    "# stud_path = requests.get(base_url + urlencode(dict(public_key='https://disk.yandex.ru/d/Tbs44Bm6H_FwFQ'))).json()['href']\n",
    "# check_path = requests.get(base_url + urlencode(dict(public_key='https://disk.yandex.ru/d/pH1q-VqcxXjsVA'))).json()['href']\n",
    "\n",
    "# прямые ссылки:\n",
    "dop_path = r'../projdata/Проект_2_group_add.csv'\n",
    "osn_path = r'../projdata/Проект_2_groups.csv'\n",
    "stud_path = r'../projdata/Проект_2_active_studs.csv'\n",
    "check_path = r'../projdata/Проект_2_checks.csv'\n",
    "\n",
    "# сами примеры:\n",
    "# metcalcnewdata(dop_path, osn_path, stud_path, check_path, ['ARPAU', 'ARPU', 'ARPPU']) \n",
    "metrix = {'CR_act', 'CR_pay', 'ARPU', 'ARPAU', 'ARPPU'}\n",
    "metcalcnewdata(dop_path, osn_path, stud_path, check_path, metrix)\n",
    "# metcalcnewdata(dop_path, osn_path, stud_path, check_path)"
   ]
  },
  {
   "cell_type": "markdown",
   "metadata": {},
   "source": [
    "#### примеры вызова функции metrix_graf:"
   ]
  },
  {
   "cell_type": "code",
   "execution_count": 7,
   "metadata": {
    "scrolled": true
   },
   "outputs": [
    {
     "data": {
      "text/plain": [
       "<Figure size 288x432 with 0 Axes>"
      ]
     },
     "metadata": {},
     "output_type": "display_data"
    },
    {
     "data": {
      "image/png": "[encoded data removed]",
      "text/plain": [
       "<Figure size 432x288 with 1 Axes>"
      ]
     },
     "metadata": {
      "needs_background": "light"
     },
     "output_type": "display_data"
    },
    {
     "data": {
      "image/png": "[encoded data removed]",
      "text/plain": [
       "<Figure size 432x288 with 1 Axes>"
      ]
     },
     "metadata": {
      "needs_background": "light"
     },
     "output_type": "display_data"
    },
    {
     "data": {
      "image/png": "[encoded data removed]",
      "text/plain": [
       "<Figure size 432x288 with 1 Axes>"
      ]
     },
     "metadata": {
      "needs_background": "light"
     },
     "output_type": "display_data"
    },
    {
     "data": {
      "image/png": "[encoded data removed]",
      "text/plain": [
       "<Figure size 432x288 with 1 Axes>"
      ]
     },
     "metadata": {
      "needs_background": "light"
     },
     "output_type": "display_data"
    }
   ],
   "source": [
    "# для загрузки с ЯД (иногда заканчивается лимит на скачивания):\n",
    "# base_url = 'https://cloud-api.yandex.net/v1/disk/public/resources/download?'\n",
    "# dop_path = requests.get(base_url + urlencode(dict(public_key='https://disk.yandex.ru/d/5Kxrz02m3IBUwQ'))).json()['href']\n",
    "# osn_path = requests.get(base_url + urlencode(dict(public_key='https://disk.yandex.ru/d/UhyYx41rTt3clQ'))).json()['href']\n",
    "# stud_path = requests.get(base_url + urlencode(dict(public_key='https://disk.yandex.ru/d/Tbs44Bm6H_FwFQ'))).json()['href']\n",
    "# check_path = requests.get(base_url + urlencode(dict(public_key='https://disk.yandex.ru/d/pH1q-VqcxXjsVA'))).json()['href']\n",
    "\n",
    "# прямые ссылки:\n",
    "dop_path = r'../projdata/Проект_2_group_add.csv'\n",
    "osn_path = r'../projdata/Проект_2_groups.csv'\n",
    "stud_path = r'../projdata/Проект_2_active_studs.csv'\n",
    "check_path = r'../projdata/Проект_2_checks.csv'\n",
    "\n",
    "# сами примеры:\n",
    "# metrix = ['ARPAU', 'ARPU', 'ARPU', 'ARPU', 'ARPPU']\n",
    "# metrix_graf(metcalcnewdata(dop_path, osn_path, stud_path, check_path), metrix)\n",
    "metrix_graf(metcalcnewdata(dop_path, osn_path, stud_path, check_path), ['stud_count', 'CR_pay', 'ARPU', 'ARPPU'])\n",
    "# metrix_graf(metcalcnewdata(dop_path, osn_path, stud_path, check_path)) \n",
    "# metrix_graf()"
   ]
  },
  {
   "cell_type": "markdown",
   "metadata": {},
   "source": [
    "В файле a-pitev-Prj_v2_task3-1.py в этой же ветке, приведена модифицированная функция metcalcnewdata (загрузка основных и дополнительных данных, объединение с дополнительными и пересчёт метрик) для автоматизированного запуска в Airflow. Т.к. в данном случаее, при автоматческом выполнении, не стоит задачи, чтобы данные функции были использованы как-то ещё (для вывода графиков например), то возврат датафрейма (как было сделано выше) был заменён на печать. Это сделано специально, чтобы в журнале было видно, какие значения выводит, но данные мы из нее никуда не передаём. Запуск функции настроен на вывод метрик CR_pay, ARPU, ARPPU, но можно конечно сделать иначе.\n",
    "\n",
    "Можно убедится, что задание успешно отрабатывает (https://airflow-da.lab.karpov.courses/tree?dag_id=a_pitev_upload_nd_recalc)"
   ]
  },
  {
   "cell_type": "code",
   "execution_count": 17,
   "metadata": {
    "scrolled": true
   },
   "outputs": [
    {
     "name": "stdout",
     "output_type": "stream",
     "text": [
      "Help on function metrix_graf in module __main__:\n",
      "\n",
      "metrix_graf(df, metrix=['stud_count'])\n",
      "    Функция строит графики (барчарты) метрик, на основе датафрейма (1й параметр) и \n",
      "    указанных метрик (2й параметр в виде списка)\n",
      "\n"
     ]
    }
   ],
   "source": [
    "help(metrix_graf)"
   ]
  },
  {
   "cell_type": "code",
   "execution_count": null,
   "metadata": {},
   "outputs": [],
   "source": []
  }
 ],
 "metadata": {
  "kernelspec": {
   "display_name": "Python 3",
   "language": "python",
   "name": "python3"
  },
  "language_info": {
   "codemirror_mode": {
    "name": "ipython",
    "version": 3
   },
   "file_extension": ".py",
   "mimetype": "text/x-python",
   "name": "python",
   "nbconvert_exporter": "python",
   "pygments_lexer": "ipython3",
   "version": "3.7.3"
  }
 },
 "nbformat": 4,
 "nbformat_minor": 4
}
