{
 "cells": [
  {
   "cell_type": "markdown",
   "metadata": {},
   "source": [
    "## Задача 1. A/B–тестирование\n",
    "\n",
    "Одной из основных задач аналитика в нашей команде является корректное проведение экспериментов. Для этого мы применяем метод A/B–тестирования. В ходе тестирования одной гипотезы целевой группе была предложена новая механика оплаты услуг на сайте, у контрольной группы оставалась базовая механика. В качестве задания Вам необходимо проанализировать итоги эксперимента и сделать вывод, стоит ли запускать новую механику оплаты на всех пользователей."
   ]
  },
  {
   "cell_type": "markdown",
   "metadata": {},
   "source": [
    "#### предварительный анализ (EDA)"
   ]
  },
  {
   "cell_type": "code",
   "execution_count": 80,
   "metadata": {},
   "outputs": [],
   "source": [
    "import pandas as pd\n",
    "import numpy as np\n",
    "import scipy.stats as ss\n",
    "import random\n",
    "from mlxtend.evaluate import permutation_test\n",
    "import seaborn as sns\n",
    "import matplotlib.pyplot as plt\n",
    "from urllib.parse import urlencode\n",
    "import requests"
   ]
  },
  {
   "cell_type": "markdown",
   "metadata": {},
   "source": [
    "грузим данные"
   ]
  },
  {
   "cell_type": "code",
   "execution_count": 81,
   "metadata": {},
   "outputs": [],
   "source": [
    "def df_YD_loader(df_url, sep = ','):\n",
    "    '''Функция загружает данные с Yandex.Disk в pandas.dataframe\n",
    "    принимает 2 параметра df_url - путь к файлу csv на YD и \n",
    "    sep - разделитель между данными (по умолчанию - ,)'''\n",
    "    base_url = 'https://cloud-api.yandex.net/v1/disk/public/resources/download?'\n",
    "    df_final_url = base_url + urlencode(dict(public_key=df_url))\n",
    "    response = requests.get(df_final_url)\n",
    "    df_download_url = response.json()['href']\n",
    "    return pd.read_csv(df_download_url, sep = sep)    "
   ]
  },
  {
   "cell_type": "code",
   "execution_count": 21,
   "metadata": {},
   "outputs": [
    {
     "data": {
      "text/html": [
       "<div>\n",
       "<style scoped>\n",
       "    .dataframe tbody tr th:only-of-type {\n",
       "        vertical-align: middle;\n",
       "    }\n",
       "\n",
       "    .dataframe tbody tr th {\n",
       "        vertical-align: top;\n",
       "    }\n",
       "\n",
       "    .dataframe thead th {\n",
       "        text-align: right;\n",
       "    }\n",
       "</style>\n",
       "<table border=\"1\" class=\"dataframe\">\n",
       "  <thead>\n",
       "    <tr style=\"text-align: right;\">\n",
       "      <th></th>\n",
       "      <th>id</th>\n",
       "      <th>grp</th>\n",
       "    </tr>\n",
       "  </thead>\n",
       "  <tbody>\n",
       "    <tr>\n",
       "      <th>0</th>\n",
       "      <td>1489</td>\n",
       "      <td>B</td>\n",
       "    </tr>\n",
       "    <tr>\n",
       "      <th>1</th>\n",
       "      <td>1627</td>\n",
       "      <td>A</td>\n",
       "    </tr>\n",
       "    <tr>\n",
       "      <th>2</th>\n",
       "      <td>1768</td>\n",
       "      <td>B</td>\n",
       "    </tr>\n",
       "  </tbody>\n",
       "</table>\n",
       "</div>"
      ],
      "text/plain": [
       "     id grp\n",
       "0  1489   B\n",
       "1  1627   A\n",
       "2  1768   B"
      ]
     },
     "execution_count": 21,
     "metadata": {},
     "output_type": "execute_result"
    }
   ],
   "source": [
    "# информация о принадлежности пользователя к контрольной или экспериментальной группе (А – контроль, B – целевая группа) \n",
    "try: groupdf = df_YD_loader('https://disk.yandex.ru/d/UhyYx41rTt3clQ', sep = ';')\n",
    "except KeyError: groupdf = pd.read_csv(r'../projdata/Проект_2_groups.csv', sep = ';')\n",
    "groupdf.head(3)"
   ]
  },
  {
   "cell_type": "code",
   "execution_count": 22,
   "metadata": {},
   "outputs": [
    {
     "data": {
      "text/html": [
       "<div>\n",
       "<style scoped>\n",
       "    .dataframe tbody tr th:only-of-type {\n",
       "        vertical-align: middle;\n",
       "    }\n",
       "\n",
       "    .dataframe tbody tr th {\n",
       "        vertical-align: top;\n",
       "    }\n",
       "\n",
       "    .dataframe thead th {\n",
       "        text-align: right;\n",
       "    }\n",
       "</style>\n",
       "<table border=\"1\" class=\"dataframe\">\n",
       "  <thead>\n",
       "    <tr style=\"text-align: right;\">\n",
       "      <th></th>\n",
       "      <th>id</th>\n",
       "      <th>grp</th>\n",
       "    </tr>\n",
       "  </thead>\n",
       "  <tbody>\n",
       "    <tr>\n",
       "      <th>0</th>\n",
       "      <td>5694584</td>\n",
       "      <td>B</td>\n",
       "    </tr>\n",
       "    <tr>\n",
       "      <th>1</th>\n",
       "      <td>5694830</td>\n",
       "      <td>B</td>\n",
       "    </tr>\n",
       "    <tr>\n",
       "      <th>2</th>\n",
       "      <td>5695057</td>\n",
       "      <td>B</td>\n",
       "    </tr>\n",
       "  </tbody>\n",
       "</table>\n",
       "</div>"
      ],
      "text/plain": [
       "        id grp\n",
       "0  5694584   B\n",
       "1  5694830   B\n",
       "2  5695057   B"
      ]
     },
     "execution_count": 22,
     "metadata": {},
     "output_type": "execute_result"
    }
   ],
   "source": [
    "# дополнительный файл с пользователями, который вам прислали спустя 2 дня после передачи данных\n",
    "try: groupdopdf = df_YD_loader('https://disk.yandex.ru/d/5Kxrz02m3IBUwQ')\n",
    "except KeyError: groupdopdf = pd.read_csv(r'../projdata/Проект_2_group_add.csv')\n",
    "groupdopdf.head(3)"
   ]
  },
  {
   "cell_type": "code",
   "execution_count": 23,
   "metadata": {},
   "outputs": [
    {
     "data": {
      "text/html": [
       "<div>\n",
       "<style scoped>\n",
       "    .dataframe tbody tr th:only-of-type {\n",
       "        vertical-align: middle;\n",
       "    }\n",
       "\n",
       "    .dataframe tbody tr th {\n",
       "        vertical-align: top;\n",
       "    }\n",
       "\n",
       "    .dataframe thead th {\n",
       "        text-align: right;\n",
       "    }\n",
       "</style>\n",
       "<table border=\"1\" class=\"dataframe\">\n",
       "  <thead>\n",
       "    <tr style=\"text-align: right;\">\n",
       "      <th></th>\n",
       "      <th>student_id</th>\n",
       "    </tr>\n",
       "  </thead>\n",
       "  <tbody>\n",
       "    <tr>\n",
       "      <th>0</th>\n",
       "      <td>581585</td>\n",
       "    </tr>\n",
       "    <tr>\n",
       "      <th>1</th>\n",
       "      <td>5723133</td>\n",
       "    </tr>\n",
       "    <tr>\n",
       "      <th>2</th>\n",
       "      <td>3276743</td>\n",
       "    </tr>\n",
       "  </tbody>\n",
       "</table>\n",
       "</div>"
      ],
      "text/plain": [
       "   student_id\n",
       "0      581585\n",
       "1     5723133\n",
       "2     3276743"
      ]
     },
     "execution_count": 23,
     "metadata": {},
     "output_type": "execute_result"
    }
   ],
   "source": [
    "# файл с информацией о пользователях, которые зашли на платформу в дни проведения эксперимента\n",
    "try: studdf = df_YD_loader('https://disk.yandex.ru/d/Tbs44Bm6H_FwFQ')\n",
    "except KeyError: studdf = pd.read_csv(r'../projdata/Проект_2_active_studs.csv')\n",
    "studdf.head(3)"
   ]
  },
  {
   "cell_type": "code",
   "execution_count": 24,
   "metadata": {},
   "outputs": [
    {
     "data": {
      "text/plain": [
       "(8341, 1)"
      ]
     },
     "execution_count": 24,
     "metadata": {},
     "output_type": "execute_result"
    }
   ],
   "source": [
    "studdf.shape"
   ]
  },
  {
   "cell_type": "code",
   "execution_count": 25,
   "metadata": {},
   "outputs": [
    {
     "data": {
      "text/html": [
       "<div>\n",
       "<style scoped>\n",
       "    .dataframe tbody tr th:only-of-type {\n",
       "        vertical-align: middle;\n",
       "    }\n",
       "\n",
       "    .dataframe tbody tr th {\n",
       "        vertical-align: top;\n",
       "    }\n",
       "\n",
       "    .dataframe thead th {\n",
       "        text-align: right;\n",
       "    }\n",
       "</style>\n",
       "<table border=\"1\" class=\"dataframe\">\n",
       "  <thead>\n",
       "    <tr style=\"text-align: right;\">\n",
       "      <th></th>\n",
       "      <th>student_id</th>\n",
       "      <th>rev</th>\n",
       "    </tr>\n",
       "  </thead>\n",
       "  <tbody>\n",
       "    <tr>\n",
       "      <th>0</th>\n",
       "      <td>1627</td>\n",
       "      <td>990.0</td>\n",
       "    </tr>\n",
       "    <tr>\n",
       "      <th>1</th>\n",
       "      <td>3185</td>\n",
       "      <td>690.0</td>\n",
       "    </tr>\n",
       "    <tr>\n",
       "      <th>2</th>\n",
       "      <td>25973</td>\n",
       "      <td>690.0</td>\n",
       "    </tr>\n",
       "  </tbody>\n",
       "</table>\n",
       "</div>"
      ],
      "text/plain": [
       "   student_id    rev\n",
       "0        1627  990.0\n",
       "1        3185  690.0\n",
       "2       25973  690.0"
      ]
     },
     "execution_count": 25,
     "metadata": {},
     "output_type": "execute_result"
    }
   ],
   "source": [
    "# файл с информацией об оплатах пользователей в дни проведения эксперимента\n",
    "try: checkdf = df_YD_loader('https://disk.yandex.ru/d/pH1q-VqcxXjsVA', sep = ';')\n",
    "except KeyError: checkdf = pd.read_csv(r'../projdata/Проект_2_checks.csv', sep = ';')\n",
    "checkdf.head(3)"
   ]
  },
  {
   "cell_type": "code",
   "execution_count": 26,
   "metadata": {},
   "outputs": [
    {
     "data": {
      "text/plain": [
       "(541, 2)"
      ]
     },
     "execution_count": 26,
     "metadata": {},
     "output_type": "execute_result"
    }
   ],
   "source": [
    "checkdf.shape"
   ]
  },
  {
   "cell_type": "markdown",
   "metadata": {},
   "source": [
    "пропусков во всех 4х датафреймов нет:"
   ]
  },
  {
   "cell_type": "code",
   "execution_count": 27,
   "metadata": {},
   "outputs": [
    {
     "data": {
      "text/plain": [
       "id     0.0\n",
       "grp    0.0\n",
       "dtype: float64"
      ]
     },
     "execution_count": 27,
     "metadata": {},
     "output_type": "execute_result"
    }
   ],
   "source": [
    "groupdf.isna().mean()"
   ]
  },
  {
   "cell_type": "code",
   "execution_count": 28,
   "metadata": {},
   "outputs": [
    {
     "data": {
      "text/plain": [
       "id     0.0\n",
       "grp    0.0\n",
       "dtype: float64"
      ]
     },
     "execution_count": 28,
     "metadata": {},
     "output_type": "execute_result"
    }
   ],
   "source": [
    "groupdopdf.isna().mean()"
   ]
  },
  {
   "cell_type": "code",
   "execution_count": 29,
   "metadata": {},
   "outputs": [
    {
     "data": {
      "text/plain": [
       "student_id    0.0\n",
       "dtype: float64"
      ]
     },
     "execution_count": 29,
     "metadata": {},
     "output_type": "execute_result"
    }
   ],
   "source": [
    "studdf.isna().mean()"
   ]
  },
  {
   "cell_type": "code",
   "execution_count": 30,
   "metadata": {},
   "outputs": [
    {
     "data": {
      "text/plain": [
       "student_id    0.0\n",
       "rev           0.0\n",
       "dtype: float64"
      ]
     },
     "execution_count": 30,
     "metadata": {},
     "output_type": "execute_result"
    }
   ],
   "source": [
    "checkdf.isna().mean()"
   ]
  },
  {
   "cell_type": "markdown",
   "metadata": {},
   "source": [
    "в данных о платежах и активных пользователей повторов нет:"
   ]
  },
  {
   "cell_type": "code",
   "execution_count": 31,
   "metadata": {},
   "outputs": [
    {
     "name": "stdout",
     "output_type": "stream",
     "text": [
      "к-во строк: 8341, к-во уник id: 8341\n"
     ]
    }
   ],
   "source": [
    "print(f\"к-во строк: {studdf.shape[0]}, к-во уник id: {studdf['student_id'].nunique()}\")"
   ]
  },
  {
   "cell_type": "code",
   "execution_count": 32,
   "metadata": {},
   "outputs": [
    {
     "name": "stdout",
     "output_type": "stream",
     "text": [
      "к-во строк: 541, к-во уник id: 541\n"
     ]
    }
   ],
   "source": [
    "print(f\"к-во строк: {checkdf.shape[0]}, к-во уник id: {checkdf['student_id'].nunique()}\")"
   ]
  },
  {
   "cell_type": "code",
   "execution_count": 33,
   "metadata": {},
   "outputs": [
    {
     "data": {
      "text/plain": [
       "0"
      ]
     },
     "execution_count": 33,
     "metadata": {},
     "output_type": "execute_result"
    }
   ],
   "source": [
    "studdf.duplicated(subset=['student_id']).sum()"
   ]
  },
  {
   "cell_type": "code",
   "execution_count": 34,
   "metadata": {},
   "outputs": [
    {
     "data": {
      "text/plain": [
       "0"
      ]
     },
     "execution_count": 34,
     "metadata": {},
     "output_type": "execute_result"
    }
   ],
   "source": [
    "checkdf.duplicated(subset=['student_id']).sum()"
   ]
  },
  {
   "cell_type": "markdown",
   "metadata": {},
   "source": [
    "датафрейм с доп данными пользователей имеет уникальные id пользователей, которые не пересекаюся с датафреймом с основным пулом пользователей, при этом данных в доп файле меньше, чем в основном почти на 3 порядка"
   ]
  },
  {
   "cell_type": "code",
   "execution_count": 35,
   "metadata": {},
   "outputs": [
    {
     "data": {
      "text/plain": [
       "0"
      ]
     },
     "execution_count": 35,
     "metadata": {},
     "output_type": "execute_result"
    }
   ],
   "source": [
    "groupdf.duplicated(subset=['id']).sum()"
   ]
  },
  {
   "cell_type": "code",
   "execution_count": 36,
   "metadata": {},
   "outputs": [
    {
     "data": {
      "text/plain": [
       "0"
      ]
     },
     "execution_count": 36,
     "metadata": {},
     "output_type": "execute_result"
    }
   ],
   "source": [
    "groupdopdf.duplicated(subset=['id']).sum()"
   ]
  },
  {
   "cell_type": "code",
   "execution_count": 37,
   "metadata": {},
   "outputs": [
    {
     "name": "stdout",
     "output_type": "stream",
     "text": [
      "мин id 1489, макс id 5694419, \n",
      "к-во строк 74484, к-во уник id 74484\n"
     ]
    }
   ],
   "source": [
    "# основной датасет\n",
    "print(f'''мин id {groupdf['id'].min()}, макс id {groupdf['id'].max()}, \n",
    "к-во строк {groupdf.shape[0]}, к-во уник id {groupdf['id'].nunique()}''')"
   ]
  },
  {
   "cell_type": "code",
   "execution_count": 38,
   "metadata": {},
   "outputs": [
    {
     "name": "stdout",
     "output_type": "stream",
     "text": [
      "мин id 5694584, макс id 201067659, \n",
      "к-во строк 92, к-во уник id 92\n"
     ]
    }
   ],
   "source": [
    "# доп датасет\n",
    "print(f'''мин id {groupdopdf['id'].min()}, макс id {groupdopdf['id'].max()}, \n",
    "к-во строк {groupdopdf.shape[0]}, к-во уник id {groupdopdf['id'].nunique()}''')"
   ]
  },
  {
   "cell_type": "markdown",
   "metadata": {},
   "source": [
    "#### Переходим к работе с данными\n",
    "\n",
    "Как видно выше, датафрейм с доп данными пользователей имеет уникальные id пользователей и т.к. эти данные были зарегистрированы в ходе эксперимента (сказано, что прислали спустя 2 дня после первой передачи данных), но раз иное не оговорено - буду считать, что A/B тест продолжался дольше и нет оснований ими принебрегать. Кроме того, в данных нет меток времени и то, что часть данных поступила на 2 дня позднее вовсе не означает, того что события произошли позднее. Вполне вероятно, что это данные из другого источника / платформы или площадки с автономной базой.\n",
    "\n",
    "Поэтому объедимим оба датафрейма пометив на всякий случай из доп потока поступили данные или нет.\n",
    "\n",
    "Для облегчения подсчета доли группы в столбец `df['grp_dig']` вынесем цифровое представление группы (0 для A, 1 для B)"
   ]
  },
  {
   "cell_type": "code",
   "execution_count": 39,
   "metadata": {},
   "outputs": [
    {
     "data": {
      "text/html": [
       "<div>\n",
       "<style scoped>\n",
       "    .dataframe tbody tr th:only-of-type {\n",
       "        vertical-align: middle;\n",
       "    }\n",
       "\n",
       "    .dataframe tbody tr th {\n",
       "        vertical-align: top;\n",
       "    }\n",
       "\n",
       "    .dataframe thead th {\n",
       "        text-align: right;\n",
       "    }\n",
       "</style>\n",
       "<table border=\"1\" class=\"dataframe\">\n",
       "  <thead>\n",
       "    <tr style=\"text-align: right;\">\n",
       "      <th></th>\n",
       "      <th>id</th>\n",
       "      <th>grp</th>\n",
       "      <th>dop</th>\n",
       "      <th>grp_dig</th>\n",
       "    </tr>\n",
       "  </thead>\n",
       "  <tbody>\n",
       "    <tr>\n",
       "      <th>0</th>\n",
       "      <td>1489</td>\n",
       "      <td>B</td>\n",
       "      <td>0</td>\n",
       "      <td>1</td>\n",
       "    </tr>\n",
       "    <tr>\n",
       "      <th>1</th>\n",
       "      <td>1627</td>\n",
       "      <td>A</td>\n",
       "      <td>0</td>\n",
       "      <td>0</td>\n",
       "    </tr>\n",
       "    <tr>\n",
       "      <th>2</th>\n",
       "      <td>1768</td>\n",
       "      <td>B</td>\n",
       "      <td>0</td>\n",
       "      <td>1</td>\n",
       "    </tr>\n",
       "  </tbody>\n",
       "</table>\n",
       "</div>"
      ],
      "text/plain": [
       "     id grp  dop  grp_dig\n",
       "0  1489   B    0        1\n",
       "1  1627   A    0        0\n",
       "2  1768   B    0        1"
      ]
     },
     "execution_count": 39,
     "metadata": {},
     "output_type": "execute_result"
    }
   ],
   "source": [
    "groupdf['dop'] = 0\n",
    "groupdopdf['dop'] = 1\n",
    "df = groupdf.append(groupdopdf, ignore_index=True)\n",
    "df['grp_dig'] = df['grp'].apply(lambda x: 0 if x == 'A' else 1)\n",
    "df.head(3)"
   ]
  },
  {
   "cell_type": "code",
   "execution_count": 40,
   "metadata": {},
   "outputs": [
    {
     "data": {
      "text/plain": [
       "True"
      ]
     },
     "execution_count": 40,
     "metadata": {},
     "output_type": "execute_result"
    }
   ],
   "source": [
    "# проверяем, что всё на месте\n",
    "df.shape[0] == groupdf.shape[0] + groupdopdf.shape[0]"
   ]
  },
  {
   "cell_type": "code",
   "execution_count": 41,
   "metadata": {},
   "outputs": [
    {
     "data": {
      "text/plain": [
       "0.12336408496030894"
      ]
     },
     "execution_count": 41,
     "metadata": {},
     "output_type": "execute_result"
    }
   ],
   "source": [
    "# доля доп значений во всей выборке (в %)\n",
    "100 * groupdopdf.shape[0] / (groupdf.shape[0] + groupdopdf.shape[0])"
   ]
  },
  {
   "cell_type": "code",
   "execution_count": 42,
   "metadata": {
    "scrolled": true
   },
   "outputs": [
    {
     "name": "stdout",
     "output_type": "stream",
     "text": [
      "сравним долю группы B в исходных значениях\n",
      "по всем значениям | в первоначальн данных | в доп данных\n",
      "0.803               0.803                   0.7609\n"
     ]
    }
   ],
   "source": [
    "print(f'''сравним долю группы B в исходных значениях\n",
    "по всем значениям | в первоначальн данных | в доп данных\n",
    "{round(df['grp_dig'].mean(), 4):<18}{round(df[df['dop'] == 0]['grp_dig'].mean(), 4):^10}{round(df[df['dop'] == 1]['grp_dig'].mean(), 4):>22}''')"
   ]
  },
  {
   "cell_type": "markdown",
   "metadata": {},
   "source": [
    "в доп данных доля группы A немного выше, но это принципиального значения не имееет, т.к. доп данных меншьше 1/8 от 1% всех \n",
    "значений."
   ]
  },
  {
   "cell_type": "markdown",
   "metadata": {},
   "source": [
    "##### замечание про дисбаланс групп\n",
    "Наблюдается значительный дисбаланс в сторону группы целевой B (~ 80% пользователей), это существенный момент, т.к. как правило при A/B-тестировании наблюдается обратное соотношение, остановиммся на нём подробней. \n",
    "Наиболее оптимальным разбиением на тестовую и контрольную группу со статистической точки зрения (для наиболее точного стравнения) являятся разделение на равные выборки, однако с точки зрения бизнеса, менее затратным являяется выделение относительно небольшой части пользователей в тестовую группу, для проверки новвоведения. Однако в в данном случае, большая часть пользователей оказалась в группе для тестирования новой механике платежей.  \n",
    "\n",
    "Могут быть различные объяснения данному факту:\n",
    "1. Допущена ошибка в обозначении групп в данных и на самом деле тестовой является группа A.\n",
    "2. Идёт процесс тестирования в рамках алгоритма \"многорукого бандита\", который предполагает постепенное увеличение веса той группы, которая показывает более эффективные результаты. И в таком случае мы обрабатываем результаты одной из стадий (не первой), когда распределение уже сдвинулось в сторону тестовой группы. (Надо отметить, что \"многорукий бандит\" как правило используют при выборе из множества вариантов, а не при бинарном выборе, как в нашем случае.)\n",
    "3. Организация достаточно уверена в большей эффективности новой механики платежей и проводит контролирующий A/B-тест, чтобы подтвердить предположения, выделяя в контрольную группу небольшую часть пользователей.  \n",
    "\n",
    "В описании задания нет указания какой из вариантов мог бы быть и т.к. у нас нет возможности связаться с аналитиками, планировавшими дизайн эксперимента, просто отметим в выводах, что требуется уточнение параметров тестирования, чтобы подтвердить корректность разбиения на группы и будем придериваться варианта, что ошибок нет и мы имеем дело со стандартным A/B-тестом."
   ]
  },
  {
   "cell_type": "markdown",
   "metadata": {},
   "source": [
    "Присоединим прочие данные, нас интересуют только те данные, по которым мы знаем к какой группе они относятся. Если пользователь в данный период был активен в столбце t['active'] поставим признак 1. Аналогично, если оплачивал услуги - в столбце t['is_check']. Это для простоты дальнейшего рассчёта средних"
   ]
  },
  {
   "cell_type": "code",
   "execution_count": 43,
   "metadata": {},
   "outputs": [
    {
     "data": {
      "text/html": [
       "<div>\n",
       "<style scoped>\n",
       "    .dataframe tbody tr th:only-of-type {\n",
       "        vertical-align: middle;\n",
       "    }\n",
       "\n",
       "    .dataframe tbody tr th {\n",
       "        vertical-align: top;\n",
       "    }\n",
       "\n",
       "    .dataframe thead th {\n",
       "        text-align: right;\n",
       "    }\n",
       "</style>\n",
       "<table border=\"1\" class=\"dataframe\">\n",
       "  <thead>\n",
       "    <tr style=\"text-align: right;\">\n",
       "      <th></th>\n",
       "      <th>id</th>\n",
       "      <th>grp</th>\n",
       "      <th>dop</th>\n",
       "      <th>grp_dig</th>\n",
       "      <th>act_id</th>\n",
       "      <th>active</th>\n",
       "    </tr>\n",
       "  </thead>\n",
       "  <tbody>\n",
       "    <tr>\n",
       "      <th>0</th>\n",
       "      <td>1489</td>\n",
       "      <td>B</td>\n",
       "      <td>0</td>\n",
       "      <td>1</td>\n",
       "      <td>NaN</td>\n",
       "      <td>0</td>\n",
       "    </tr>\n",
       "    <tr>\n",
       "      <th>1</th>\n",
       "      <td>1627</td>\n",
       "      <td>A</td>\n",
       "      <td>0</td>\n",
       "      <td>0</td>\n",
       "      <td>1627.0</td>\n",
       "      <td>1</td>\n",
       "    </tr>\n",
       "    <tr>\n",
       "      <th>2</th>\n",
       "      <td>1768</td>\n",
       "      <td>B</td>\n",
       "      <td>0</td>\n",
       "      <td>1</td>\n",
       "      <td>NaN</td>\n",
       "      <td>0</td>\n",
       "    </tr>\n",
       "    <tr>\n",
       "      <th>3</th>\n",
       "      <td>1783</td>\n",
       "      <td>B</td>\n",
       "      <td>0</td>\n",
       "      <td>1</td>\n",
       "      <td>NaN</td>\n",
       "      <td>0</td>\n",
       "    </tr>\n",
       "    <tr>\n",
       "      <th>4</th>\n",
       "      <td>1794</td>\n",
       "      <td>A</td>\n",
       "      <td>0</td>\n",
       "      <td>0</td>\n",
       "      <td>NaN</td>\n",
       "      <td>0</td>\n",
       "    </tr>\n",
       "  </tbody>\n",
       "</table>\n",
       "</div>"
      ],
      "text/plain": [
       "     id grp  dop  grp_dig  act_id  active\n",
       "0  1489   B    0        1     NaN       0\n",
       "1  1627   A    0        0  1627.0       1\n",
       "2  1768   B    0        1     NaN       0\n",
       "3  1783   B    0        1     NaN       0\n",
       "4  1794   A    0        0     NaN       0"
      ]
     },
     "execution_count": 43,
     "metadata": {},
     "output_type": "execute_result"
    }
   ],
   "source": [
    "t = df.merge(studdf, how = 'left', left_on='id', right_on='student_id')\n",
    "t['active'] = t['student_id'].apply(lambda x: 0 if pd.isna(x) else 1)\n",
    "t.rename(columns={'student_id': 'act_id'}, inplace=True)\n",
    "t.head()"
   ]
  },
  {
   "cell_type": "markdown",
   "metadata": {},
   "source": [
    "завершим присоединение данных"
   ]
  },
  {
   "cell_type": "code",
   "execution_count": 44,
   "metadata": {
    "scrolled": true
   },
   "outputs": [
    {
     "data": {
      "text/html": [
       "<div>\n",
       "<style scoped>\n",
       "    .dataframe tbody tr th:only-of-type {\n",
       "        vertical-align: middle;\n",
       "    }\n",
       "\n",
       "    .dataframe tbody tr th {\n",
       "        vertical-align: top;\n",
       "    }\n",
       "\n",
       "    .dataframe thead th {\n",
       "        text-align: right;\n",
       "    }\n",
       "</style>\n",
       "<table border=\"1\" class=\"dataframe\">\n",
       "  <thead>\n",
       "    <tr style=\"text-align: right;\">\n",
       "      <th></th>\n",
       "      <th>id</th>\n",
       "      <th>grp</th>\n",
       "      <th>dop</th>\n",
       "      <th>grp_dig</th>\n",
       "      <th>act_id</th>\n",
       "      <th>active</th>\n",
       "      <th>pay_id</th>\n",
       "      <th>rev</th>\n",
       "      <th>is_check</th>\n",
       "    </tr>\n",
       "  </thead>\n",
       "  <tbody>\n",
       "    <tr>\n",
       "      <th>0</th>\n",
       "      <td>1489</td>\n",
       "      <td>B</td>\n",
       "      <td>0</td>\n",
       "      <td>1</td>\n",
       "      <td>NaN</td>\n",
       "      <td>0</td>\n",
       "      <td>NaN</td>\n",
       "      <td>0.0</td>\n",
       "      <td>0</td>\n",
       "    </tr>\n",
       "    <tr>\n",
       "      <th>1</th>\n",
       "      <td>1627</td>\n",
       "      <td>A</td>\n",
       "      <td>0</td>\n",
       "      <td>0</td>\n",
       "      <td>1627.0</td>\n",
       "      <td>1</td>\n",
       "      <td>1627.0</td>\n",
       "      <td>990.0</td>\n",
       "      <td>1</td>\n",
       "    </tr>\n",
       "    <tr>\n",
       "      <th>2</th>\n",
       "      <td>1768</td>\n",
       "      <td>B</td>\n",
       "      <td>0</td>\n",
       "      <td>1</td>\n",
       "      <td>NaN</td>\n",
       "      <td>0</td>\n",
       "      <td>NaN</td>\n",
       "      <td>0.0</td>\n",
       "      <td>0</td>\n",
       "    </tr>\n",
       "    <tr>\n",
       "      <th>3</th>\n",
       "      <td>1783</td>\n",
       "      <td>B</td>\n",
       "      <td>0</td>\n",
       "      <td>1</td>\n",
       "      <td>NaN</td>\n",
       "      <td>0</td>\n",
       "      <td>NaN</td>\n",
       "      <td>0.0</td>\n",
       "      <td>0</td>\n",
       "    </tr>\n",
       "    <tr>\n",
       "      <th>4</th>\n",
       "      <td>1794</td>\n",
       "      <td>A</td>\n",
       "      <td>0</td>\n",
       "      <td>0</td>\n",
       "      <td>NaN</td>\n",
       "      <td>0</td>\n",
       "      <td>NaN</td>\n",
       "      <td>0.0</td>\n",
       "      <td>0</td>\n",
       "    </tr>\n",
       "  </tbody>\n",
       "</table>\n",
       "</div>"
      ],
      "text/plain": [
       "     id grp  dop  grp_dig  act_id  active  pay_id    rev  is_check\n",
       "0  1489   B    0        1     NaN       0     NaN    0.0         0\n",
       "1  1627   A    0        0  1627.0       1  1627.0  990.0         1\n",
       "2  1768   B    0        1     NaN       0     NaN    0.0         0\n",
       "3  1783   B    0        1     NaN       0     NaN    0.0         0\n",
       "4  1794   A    0        0     NaN       0     NaN    0.0         0"
      ]
     },
     "execution_count": 44,
     "metadata": {},
     "output_type": "execute_result"
    }
   ],
   "source": [
    "df2 = t.merge(checkdf, how = 'left', left_on='id', right_on='student_id')\n",
    "df2['is_check'] = df2['student_id'].apply(lambda x: 0 if pd.isna(x) else 1)\n",
    "df2.rename(columns={'student_id': 'pay_id'}, inplace=True)\n",
    "df2['rev'].fillna(0, inplace=True)\n",
    "df2.head()"
   ]
  },
  {
   "cell_type": "markdown",
   "metadata": {},
   "source": [
    "Парадоксально, но у нас есть люди, которые совершили оплату, но на сайт не заходили:"
   ]
  },
  {
   "cell_type": "code",
   "execution_count": 45,
   "metadata": {},
   "outputs": [
    {
     "data": {
      "text/plain": [
       "149"
      ]
     },
     "execution_count": 45,
     "metadata": {},
     "output_type": "execute_result"
    }
   ],
   "source": [
    "df2[(df2['is_check'] == 1) & (df2['active'] == 0)].shape[0]"
   ]
  },
  {
   "cell_type": "markdown",
   "metadata": {},
   "source": [
    "И их больше четверти всех оплативших:"
   ]
  },
  {
   "cell_type": "code",
   "execution_count": 46,
   "metadata": {},
   "outputs": [
    {
     "data": {
      "text/plain": [
       "0.2754158964879852"
      ]
     },
     "execution_count": 46,
     "metadata": {},
     "output_type": "execute_result"
    }
   ],
   "source": [
    "df2[(df2['is_check'] == 1) & (df2['active'] == 0)].shape[0] / df2[(df2['is_check'] == 1)].shape[0]"
   ]
  },
  {
   "cell_type": "markdown",
   "metadata": {},
   "source": [
    "Видимо существуют ещё какие-то механизмы оплаты наших услуг (в мобильном приложении и/или офлайн в офисе), при том, что база всех пользователей общая. Важно то, что те, кто совершил оплату, но на сайт не заходил - не видели и не взимодействовали с новой механикой оплаты услуг. Значит надо отфильтровать данные для обработки оставив из оплативших только \"активных\" пользователей - тех, кто заходил на сайт.\n",
    "\n",
    "Поэтому мы сначала присоединим к датафрейму активных пользователей, датафрейм с оплатившими пользователями (которые являются также активными): "
   ]
  },
  {
   "cell_type": "code",
   "execution_count": 47,
   "metadata": {},
   "outputs": [
    {
     "data": {
      "text/html": [
       "<div>\n",
       "<style scoped>\n",
       "    .dataframe tbody tr th:only-of-type {\n",
       "        vertical-align: middle;\n",
       "    }\n",
       "\n",
       "    .dataframe tbody tr th {\n",
       "        vertical-align: top;\n",
       "    }\n",
       "\n",
       "    .dataframe thead th {\n",
       "        text-align: right;\n",
       "    }\n",
       "</style>\n",
       "<table border=\"1\" class=\"dataframe\">\n",
       "  <thead>\n",
       "    <tr style=\"text-align: right;\">\n",
       "      <th></th>\n",
       "      <th>student_id</th>\n",
       "      <th>pay_id</th>\n",
       "      <th>rev</th>\n",
       "    </tr>\n",
       "  </thead>\n",
       "  <tbody>\n",
       "    <tr>\n",
       "      <th>0</th>\n",
       "      <td>581585</td>\n",
       "      <td>NaN</td>\n",
       "      <td>0.0</td>\n",
       "    </tr>\n",
       "    <tr>\n",
       "      <th>1</th>\n",
       "      <td>5723133</td>\n",
       "      <td>NaN</td>\n",
       "      <td>0.0</td>\n",
       "    </tr>\n",
       "    <tr>\n",
       "      <th>2</th>\n",
       "      <td>3276743</td>\n",
       "      <td>NaN</td>\n",
       "      <td>0.0</td>\n",
       "    </tr>\n",
       "  </tbody>\n",
       "</table>\n",
       "</div>"
      ],
      "text/plain": [
       "   student_id  pay_id  rev\n",
       "0      581585     NaN  0.0\n",
       "1     5723133     NaN  0.0\n",
       "2     3276743     NaN  0.0"
      ]
     },
     "execution_count": 47,
     "metadata": {},
     "output_type": "execute_result"
    }
   ],
   "source": [
    "checkdf = checkdf.rename(columns={'student_id': 'pay_id'})\n",
    "t2 = studdf.merge(checkdf, how = 'left', left_on='student_id', right_on='pay_id')\n",
    "t2['rev'].fillna(0, inplace=True)\n",
    "t2.head(3)"
   ]
  },
  {
   "cell_type": "markdown",
   "metadata": {},
   "source": [
    "и теперь соединим с данными о разбивке пользователей на группы:"
   ]
  },
  {
   "cell_type": "code",
   "execution_count": 48,
   "metadata": {},
   "outputs": [
    {
     "data": {
      "text/html": [
       "<div>\n",
       "<style scoped>\n",
       "    .dataframe tbody tr th:only-of-type {\n",
       "        vertical-align: middle;\n",
       "    }\n",
       "\n",
       "    .dataframe tbody tr th {\n",
       "        vertical-align: top;\n",
       "    }\n",
       "\n",
       "    .dataframe thead th {\n",
       "        text-align: right;\n",
       "    }\n",
       "</style>\n",
       "<table border=\"1\" class=\"dataframe\">\n",
       "  <thead>\n",
       "    <tr style=\"text-align: right;\">\n",
       "      <th></th>\n",
       "      <th>id</th>\n",
       "      <th>grp</th>\n",
       "      <th>dop</th>\n",
       "      <th>grp_dig</th>\n",
       "      <th>act_id</th>\n",
       "      <th>pay_id</th>\n",
       "      <th>rev</th>\n",
       "      <th>active</th>\n",
       "      <th>is_check</th>\n",
       "    </tr>\n",
       "  </thead>\n",
       "  <tbody>\n",
       "    <tr>\n",
       "      <th>0</th>\n",
       "      <td>1489</td>\n",
       "      <td>B</td>\n",
       "      <td>0</td>\n",
       "      <td>1</td>\n",
       "      <td>NaN</td>\n",
       "      <td>NaN</td>\n",
       "      <td>NaN</td>\n",
       "      <td>0</td>\n",
       "      <td>0</td>\n",
       "    </tr>\n",
       "    <tr>\n",
       "      <th>1</th>\n",
       "      <td>1627</td>\n",
       "      <td>A</td>\n",
       "      <td>0</td>\n",
       "      <td>0</td>\n",
       "      <td>1627.0</td>\n",
       "      <td>1627.0</td>\n",
       "      <td>990.0</td>\n",
       "      <td>1</td>\n",
       "      <td>1</td>\n",
       "    </tr>\n",
       "    <tr>\n",
       "      <th>2</th>\n",
       "      <td>1768</td>\n",
       "      <td>B</td>\n",
       "      <td>0</td>\n",
       "      <td>1</td>\n",
       "      <td>NaN</td>\n",
       "      <td>NaN</td>\n",
       "      <td>NaN</td>\n",
       "      <td>0</td>\n",
       "      <td>0</td>\n",
       "    </tr>\n",
       "  </tbody>\n",
       "</table>\n",
       "</div>"
      ],
      "text/plain": [
       "     id grp  dop  grp_dig  act_id  pay_id    rev  active  is_check\n",
       "0  1489   B    0        1     NaN     NaN    NaN       0         0\n",
       "1  1627   A    0        0  1627.0  1627.0  990.0       1         1\n",
       "2  1768   B    0        1     NaN     NaN    NaN       0         0"
      ]
     },
     "execution_count": 48,
     "metadata": {},
     "output_type": "execute_result"
    }
   ],
   "source": [
    "df = df.merge(t2, how = 'left', left_on='id', right_on='student_id')\n",
    "df['active'] = df['student_id'].apply(lambda x: 0 if pd.isna(x) else 1)\n",
    "df['is_check'] = df['pay_id'].apply(lambda x: 0 if pd.isna(x) else 1)\n",
    "df.rename(columns={'student_id': 'act_id'}, inplace=True)\n",
    "df.head(3)"
   ]
  },
  {
   "cell_type": "code",
   "execution_count": 49,
   "metadata": {},
   "outputs": [
    {
     "name": "stdout",
     "output_type": "stream",
     "text": [
      "активных без группы: 0\n",
      "платящих без группы: 0\n"
     ]
    }
   ],
   "source": [
    "# Прверим не было ти в данных об активных и платящих пользователей записей по которым у нас нет данных о принадлежности к \n",
    "# группам тестирования. Таких нет:\n",
    "print(f\"активных без группы: {studdf.merge(df, how = 'left', left_on='student_id', right_on='id')['grp'].isna().sum()}\", \n",
    "     f\"платящих без группы: {checkdf.merge(df, how = 'left', left_on='pay_id', right_on='id')['grp'].isna().sum()}\", sep = '\\n')"
   ]
  },
  {
   "cell_type": "code",
   "execution_count": 50,
   "metadata": {},
   "outputs": [
    {
     "data": {
      "text/html": [
       "<div>\n",
       "<style scoped>\n",
       "    .dataframe tbody tr th:only-of-type {\n",
       "        vertical-align: middle;\n",
       "    }\n",
       "\n",
       "    .dataframe tbody tr th {\n",
       "        vertical-align: top;\n",
       "    }\n",
       "\n",
       "    .dataframe thead th {\n",
       "        text-align: right;\n",
       "    }\n",
       "</style>\n",
       "<table border=\"1\" class=\"dataframe\">\n",
       "  <thead>\n",
       "    <tr style=\"text-align: right;\">\n",
       "      <th></th>\n",
       "      <th>id</th>\n",
       "      <th>grp</th>\n",
       "      <th>dop</th>\n",
       "      <th>rev</th>\n",
       "    </tr>\n",
       "  </thead>\n",
       "  <tbody>\n",
       "    <tr>\n",
       "      <th>1</th>\n",
       "      <td>1627</td>\n",
       "      <td>A</td>\n",
       "      <td>0</td>\n",
       "      <td>990.0000</td>\n",
       "    </tr>\n",
       "    <tr>\n",
       "      <th>220</th>\n",
       "      <td>100300</td>\n",
       "      <td>B</td>\n",
       "      <td>0</td>\n",
       "      <td>990.0000</td>\n",
       "    </tr>\n",
       "    <tr>\n",
       "      <th>320</th>\n",
       "      <td>108270</td>\n",
       "      <td>B</td>\n",
       "      <td>0</td>\n",
       "      <td>290.0000</td>\n",
       "    </tr>\n",
       "    <tr>\n",
       "      <th>3779</th>\n",
       "      <td>264473</td>\n",
       "      <td>B</td>\n",
       "      <td>0</td>\n",
       "      <td>1900.0001</td>\n",
       "    </tr>\n",
       "    <tr>\n",
       "      <th>4187</th>\n",
       "      <td>274352</td>\n",
       "      <td>B</td>\n",
       "      <td>0</td>\n",
       "      <td>690.0000</td>\n",
       "    </tr>\n",
       "    <tr>\n",
       "      <th>...</th>\n",
       "      <td>...</td>\n",
       "      <td>...</td>\n",
       "      <td>...</td>\n",
       "      <td>...</td>\n",
       "    </tr>\n",
       "    <tr>\n",
       "      <th>74365</th>\n",
       "      <td>5645737</td>\n",
       "      <td>B</td>\n",
       "      <td>0</td>\n",
       "      <td>1900.0000</td>\n",
       "    </tr>\n",
       "    <tr>\n",
       "      <th>74381</th>\n",
       "      <td>5651566</td>\n",
       "      <td>B</td>\n",
       "      <td>0</td>\n",
       "      <td>1900.0000</td>\n",
       "    </tr>\n",
       "    <tr>\n",
       "      <th>74402</th>\n",
       "      <td>5662322</td>\n",
       "      <td>B</td>\n",
       "      <td>0</td>\n",
       "      <td>1900.0000</td>\n",
       "    </tr>\n",
       "    <tr>\n",
       "      <th>74452</th>\n",
       "      <td>5681918</td>\n",
       "      <td>B</td>\n",
       "      <td>0</td>\n",
       "      <td>1900.0000</td>\n",
       "    </tr>\n",
       "    <tr>\n",
       "      <th>74539</th>\n",
       "      <td>5740903</td>\n",
       "      <td>B</td>\n",
       "      <td>1</td>\n",
       "      <td>1900.0000</td>\n",
       "    </tr>\n",
       "  </tbody>\n",
       "</table>\n",
       "<p>392 rows × 4 columns</p>\n",
       "</div>"
      ],
      "text/plain": [
       "            id grp  dop        rev\n",
       "1         1627   A    0   990.0000\n",
       "220     100300   B    0   990.0000\n",
       "320     108270   B    0   290.0000\n",
       "3779    264473   B    0  1900.0001\n",
       "4187    274352   B    0   690.0000\n",
       "...        ...  ..  ...        ...\n",
       "74365  5645737   B    0  1900.0000\n",
       "74381  5651566   B    0  1900.0000\n",
       "74402  5662322   B    0  1900.0000\n",
       "74452  5681918   B    0  1900.0000\n",
       "74539  5740903   B    1  1900.0000\n",
       "\n",
       "[392 rows x 4 columns]"
      ]
     },
     "execution_count": 50,
     "metadata": {},
     "output_type": "execute_result"
    }
   ],
   "source": [
    "# глядя на этот сэмпл данных может возникнуть иллюзия, что есть какая-то зависимость между расходами пользователя и его id\n",
    "df[df['is_check'] == 1][['id', 'grp', 'dop', 'rev']]"
   ]
  },
  {
   "cell_type": "code",
   "execution_count": 51,
   "metadata": {},
   "outputs": [
    {
     "data": {
      "text/plain": [
       "<Figure size 720x720 with 0 Axes>"
      ]
     },
     "metadata": {},
     "output_type": "display_data"
    },
    {
     "data": {
      "image/png": "[encoded data removed]",
      "text/plain": [
       "<Figure size 720x360 with 1 Axes>"
      ]
     },
     "metadata": {
      "needs_background": "light"
     },
     "output_type": "display_data"
    }
   ],
   "source": [
    "# убедимся, что это совсем не так:\n",
    "tt = df[df['rev'] > 0]\n",
    "plt.figure(figsize=(10, 10))\n",
    "sns.lmplot(data=tt, x='id', y='rev', aspect=2);"
   ]
  },
  {
   "cell_type": "markdown",
   "metadata": {},
   "source": [
    "##### выбор метрик\n",
    "Тест был задуман, для применения новой механики оплаты услуг на сайте, но механизм оплаты на сайте никак не может оказать влияние на привлечение пользователей на сайт. Поэтому надо оценить изменение метрик пользователей, посетивших сайт, значит будем оценивать изменение следующих метрик: \n",
    "- конверсия активных пользователей в платящих пользователей (CR_pay_act) \n",
    "- средний чек на активного пользователя (ARPAU)\n",
    "- среднем чеке на платящего пользователя (ARPPU)\n",
    "\n",
    "Первая показывает, сколько пользователй побывавших на сайте в итоге совершили платежи, вторая - как изменился средний платёж на одного пользователя сайта и следовательно как изменится общий доход пользователей сайта при использовании новой механике оплаты, а последняя - как изменился средний платёж на одного платящего пользователя. Нам детали изменений оплаты услуг не известны, но вполне может быть, что помимо облегчения самомго процесса совершения оплаты, также используются к примеру в более удобном виде предложения субпродуктов / допуслуг, поэтому новая механика может оказывать влияние как конверсию, так и на стредний чек. \n",
    "\n",
    "В случае, если тестирование покажет положительный результат, можно будет провести рекламную компанию или оповещение по всем каналам о новой механике платежей, чтобы увеличить конверсию всех пользователей в активных пользователей (и повысить т.о. средний чек на пользователя ARPU), но сама механика оплаты услуг на сайте на данном этапе на эти две метрики влияние не оказывает."
   ]
  },
  {
   "cell_type": "markdown",
   "metadata": {},
   "source": [
    "сгруппируем данные по группам и посчитаем метрики"
   ]
  },
  {
   "cell_type": "code",
   "execution_count": 52,
   "metadata": {},
   "outputs": [
    {
     "data": {
      "text/html": [
       "<div>\n",
       "<style scoped>\n",
       "    .dataframe tbody tr th:only-of-type {\n",
       "        vertical-align: middle;\n",
       "    }\n",
       "\n",
       "    .dataframe tbody tr th {\n",
       "        vertical-align: top;\n",
       "    }\n",
       "\n",
       "    .dataframe thead th {\n",
       "        text-align: right;\n",
       "    }\n",
       "</style>\n",
       "<table border=\"1\" class=\"dataframe\">\n",
       "  <thead>\n",
       "    <tr style=\"text-align: right;\">\n",
       "      <th></th>\n",
       "      <th>grp</th>\n",
       "      <th>grp_dig</th>\n",
       "      <th>act_count</th>\n",
       "      <th>pay_count</th>\n",
       "      <th>rev_sum</th>\n",
       "      <th>CR_pay_act</th>\n",
       "      <th>ARPAU</th>\n",
       "      <th>ARPPU</th>\n",
       "    </tr>\n",
       "  </thead>\n",
       "  <tbody>\n",
       "    <tr>\n",
       "      <th>0</th>\n",
       "      <td>A</td>\n",
       "      <td>0</td>\n",
       "      <td>1538</td>\n",
       "      <td>78</td>\n",
       "      <td>72820.0000</td>\n",
       "      <td>0.050715</td>\n",
       "      <td>47.347204</td>\n",
       "      <td>933.589744</td>\n",
       "    </tr>\n",
       "    <tr>\n",
       "      <th>1</th>\n",
       "      <td>B</td>\n",
       "      <td>1</td>\n",
       "      <td>6803</td>\n",
       "      <td>314</td>\n",
       "      <td>394974.0035</td>\n",
       "      <td>0.046156</td>\n",
       "      <td>58.058798</td>\n",
       "      <td>1257.878992</td>\n",
       "    </tr>\n",
       "  </tbody>\n",
       "</table>\n",
       "</div>"
      ],
      "text/plain": [
       "  grp  grp_dig  act_count  pay_count      rev_sum  CR_pay_act      ARPAU  \\\n",
       "0   A        0       1538         78   72820.0000    0.050715  47.347204   \n",
       "1   B        1       6803        314  394974.0035    0.046156  58.058798   \n",
       "\n",
       "         ARPPU  \n",
       "0   933.589744  \n",
       "1  1257.878992  "
      ]
     },
     "execution_count": 52,
     "metadata": {},
     "output_type": "execute_result"
    }
   ],
   "source": [
    "df_by_gr = df.groupby('grp', as_index = False). \\\n",
    "           agg(grp_dig = ('grp_dig', 'mean'), \n",
    "               act_count = ('act_id', 'count'), \n",
    "               pay_count = ('pay_id', 'count'), \n",
    "               rev_sum = ('rev', 'sum'))\n",
    "df_by_gr['CR_pay_act'] = df_by_gr['pay_count'] / df_by_gr['act_count']\n",
    "df_by_gr['ARPAU'] = df_by_gr['rev_sum'] / df_by_gr['act_count']\n",
    "df_by_gr['ARPPU'] = df_by_gr['rev_sum'] / df_by_gr['pay_count']\n",
    "df_by_gr"
   ]
  },
  {
   "cell_type": "markdown",
   "metadata": {},
   "source": [
    "Столбцы act_count, pay_count, rev_sum приведены здесь для информации и означают соответственно количество активных пользователей, количество пользователей, совершивших платежи и общие продажи по группе.\n",
    "\n",
    "Метрики показывают разнонаправленные тренды: конверсия активных в платящих пользователей немного ухудшидась в целевой группе (B), а метрики со средниими чеками улучшились."
   ]
  },
  {
   "cell_type": "markdown",
   "metadata": {},
   "source": [
    "Представим изменения отобранных метрик в более удобном (транспонированном) виде. \n",
    "\n",
    "Видим, что конверсия снизилась почти на 9%, но средние чеки возросли на 22-35%. Теперь надо установить значимость изменений"
   ]
  },
  {
   "cell_type": "code",
   "execution_count": 53,
   "metadata": {},
   "outputs": [
    {
     "data": {
      "text/html": [
       "<div>\n",
       "<style scoped>\n",
       "    .dataframe tbody tr th:only-of-type {\n",
       "        vertical-align: middle;\n",
       "    }\n",
       "\n",
       "    .dataframe tbody tr th {\n",
       "        vertical-align: top;\n",
       "    }\n",
       "\n",
       "    .dataframe thead th {\n",
       "        text-align: right;\n",
       "    }\n",
       "</style>\n",
       "<table border=\"1\" class=\"dataframe\">\n",
       "  <thead>\n",
       "    <tr style=\"text-align: right;\">\n",
       "      <th>grp</th>\n",
       "      <th>A</th>\n",
       "      <th>B</th>\n",
       "      <th>delta</th>\n",
       "      <th>chng</th>\n",
       "    </tr>\n",
       "  </thead>\n",
       "  <tbody>\n",
       "    <tr>\n",
       "      <th>CR_pay_act</th>\n",
       "      <td>0.050715</td>\n",
       "      <td>0.046156</td>\n",
       "      <td>-0.004559</td>\n",
       "      <td>0.910104</td>\n",
       "    </tr>\n",
       "    <tr>\n",
       "      <th>ARPAU</th>\n",
       "      <td>47.347204</td>\n",
       "      <td>58.058798</td>\n",
       "      <td>10.711594</td>\n",
       "      <td>1.226235</td>\n",
       "    </tr>\n",
       "    <tr>\n",
       "      <th>ARPPU</th>\n",
       "      <td>933.589744</td>\n",
       "      <td>1257.878992</td>\n",
       "      <td>324.289248</td>\n",
       "      <td>1.347357</td>\n",
       "    </tr>\n",
       "  </tbody>\n",
       "</table>\n",
       "</div>"
      ],
      "text/plain": [
       "grp                  A            B       delta      chng\n",
       "CR_pay_act    0.050715     0.046156   -0.004559  0.910104\n",
       "ARPAU        47.347204    58.058798   10.711594  1.226235\n",
       "ARPPU       933.589744  1257.878992  324.289248  1.347357"
      ]
     },
     "execution_count": 53,
     "metadata": {},
     "output_type": "execute_result"
    }
   ],
   "source": [
    "df_by_gr2 = df_by_gr[['grp', 'CR_pay_act', 'ARPAU', 'ARPPU']]\n",
    "df_by_gr2.set_index('grp', inplace=True)\n",
    "df_by_gr2 = df_by_gr2.T\n",
    "df_by_gr2['delta'] = df_by_gr2['B'] - df_by_gr2['A']\n",
    "df_by_gr2['chng'] = df_by_gr2['B'] / df_by_gr2['A']\n",
    "df_by_gr2"
   ]
  },
  {
   "cell_type": "markdown",
   "metadata": {},
   "source": [
    "определим значимость изменений для каждой выбранной метрики"
   ]
  },
  {
   "cell_type": "markdown",
   "metadata": {},
   "source": [
    "#### 1. Конверсия активных пользователей в платящих пользователей (CR_pay_act)\n",
    "\n",
    "для CR_pay_act нулевая гипотеза будет означать, что CR_pay_act для групп B и A значимо не отличаются, альтернативная - что отличаются"
   ]
  },
  {
   "cell_type": "markdown",
   "metadata": {},
   "source": [
    "Для проверки используем статистику хи-квадрат. \n",
    "\n",
    "Построим таблицу сопряжённости, где в столбцах будут неплатящие и платящие клиенты соответствующей группы:"
   ]
  },
  {
   "cell_type": "code",
   "execution_count": 54,
   "metadata": {},
   "outputs": [
    {
     "data": {
      "text/html": [
       "<div>\n",
       "<style scoped>\n",
       "    .dataframe tbody tr th:only-of-type {\n",
       "        vertical-align: middle;\n",
       "    }\n",
       "\n",
       "    .dataframe tbody tr th {\n",
       "        vertical-align: top;\n",
       "    }\n",
       "\n",
       "    .dataframe thead th {\n",
       "        text-align: right;\n",
       "    }\n",
       "</style>\n",
       "<table border=\"1\" class=\"dataframe\">\n",
       "  <thead>\n",
       "    <tr style=\"text-align: right;\">\n",
       "      <th>is_check</th>\n",
       "      <th>0</th>\n",
       "      <th>1</th>\n",
       "    </tr>\n",
       "    <tr>\n",
       "      <th>grp</th>\n",
       "      <th></th>\n",
       "      <th></th>\n",
       "    </tr>\n",
       "  </thead>\n",
       "  <tbody>\n",
       "    <tr>\n",
       "      <th>A</th>\n",
       "      <td>1460</td>\n",
       "      <td>78</td>\n",
       "    </tr>\n",
       "    <tr>\n",
       "      <th>B</th>\n",
       "      <td>6489</td>\n",
       "      <td>314</td>\n",
       "    </tr>\n",
       "  </tbody>\n",
       "</table>\n",
       "</div>"
      ],
      "text/plain": [
       "is_check     0    1\n",
       "grp                \n",
       "A         1460   78\n",
       "B         6489  314"
      ]
     },
     "execution_count": 54,
     "metadata": {},
     "output_type": "execute_result"
    }
   ],
   "source": [
    "actdf = df[df['active'] == 1]\n",
    "CRcross = pd.crosstab(actdf['grp'], actdf['is_check'])\n",
    "CRcross"
   ]
  },
  {
   "cell_type": "code",
   "execution_count": 55,
   "metadata": {},
   "outputs": [
    {
     "data": {
      "text/plain": [
       "(0.48480826522557896,\n",
       " 0.48625240457231045,\n",
       " 1,\n",
       " array([[1465.71897854,   72.28102146],\n",
       "        [6483.28102146,  319.71897854]]))"
      ]
     },
     "execution_count": 55,
     "metadata": {},
     "output_type": "execute_result"
    }
   ],
   "source": [
    "# применим критетий хи-квадрат\n",
    "ss.chi2_contingency(CRcross)"
   ]
  },
  {
   "cell_type": "code",
   "execution_count": 56,
   "metadata": {
    "scrolled": true
   },
   "outputs": [
    {
     "name": "stdout",
     "output_type": "stream",
     "text": [
      "различия не значимы\n"
     ]
    }
   ],
   "source": [
    "print('различия не значимы' if ss.chi2_contingency(CRcross)[1] >= 0.05 else 'различия значимы')"
   ]
  },
  {
   "cell_type": "markdown",
   "metadata": {},
   "source": [
    "Нет оснований отвергнуть нулевую гипотезу о том, что конверсии активных пользователей в платежи для этих групп не отличаются"
   ]
  },
  {
   "cell_type": "markdown",
   "metadata": {},
   "source": [
    "Учитывая значительный дисбалансс групп в пользу тестовой (B), проведём также оценку с использованием взвешивания данных"
   ]
  },
  {
   "cell_type": "code",
   "execution_count": 57,
   "metadata": {},
   "outputs": [
    {
     "data": {
      "text/html": [
       "<div>\n",
       "<style scoped>\n",
       "    .dataframe tbody tr th:only-of-type {\n",
       "        vertical-align: middle;\n",
       "    }\n",
       "\n",
       "    .dataframe tbody tr th {\n",
       "        vertical-align: top;\n",
       "    }\n",
       "\n",
       "    .dataframe thead th {\n",
       "        text-align: right;\n",
       "    }\n",
       "</style>\n",
       "<table border=\"1\" class=\"dataframe\">\n",
       "  <thead>\n",
       "    <tr style=\"text-align: right;\">\n",
       "      <th>is_check</th>\n",
       "      <th>0</th>\n",
       "      <th>1</th>\n",
       "    </tr>\n",
       "    <tr>\n",
       "      <th>grp</th>\n",
       "      <th></th>\n",
       "      <th></th>\n",
       "    </tr>\n",
       "  </thead>\n",
       "  <tbody>\n",
       "    <tr>\n",
       "      <th>A</th>\n",
       "      <td>1460.000000</td>\n",
       "      <td>78.000000</td>\n",
       "    </tr>\n",
       "    <tr>\n",
       "      <th>B</th>\n",
       "      <td>1592.152648</td>\n",
       "      <td>77.043602</td>\n",
       "    </tr>\n",
       "  </tbody>\n",
       "</table>\n",
       "</div>"
      ],
      "text/plain": [
       "is_check            0          1\n",
       "grp                             \n",
       "A         1460.000000  78.000000\n",
       "B         1592.152648  77.043602"
      ]
     },
     "execution_count": 57,
     "metadata": {},
     "output_type": "execute_result"
    }
   ],
   "source": [
    "# таблица сопряжённости с учётом весовой поправки \n",
    "corrwgs = len(df[df['grp'] == 'A']) / len(df[df['grp'] == 'B']) # весовая поправка \n",
    "CRcross_ = CRcross.copy()\n",
    "CRcross_.loc['B'] *= corrwgs\n",
    "CRcross_\n",
    "# видно, что при поправке количество платящих отличается всего на 1, но посмотрим на результаты"
   ]
  },
  {
   "cell_type": "code",
   "execution_count": 58,
   "metadata": {},
   "outputs": [
    {
     "data": {
      "text/plain": [
       "(0.26933967984943796,\n",
       " 0.6037750648739049,\n",
       " 1,\n",
       " array([[1463.64937071,   74.35062929],\n",
       "        [1588.50327695,   80.6929724 ]]))"
      ]
     },
     "execution_count": 58,
     "metadata": {},
     "output_type": "execute_result"
    }
   ],
   "source": [
    "# применим критетий хи-квадрат\n",
    "ss.chi2_contingency(CRcross_)"
   ]
  },
  {
   "cell_type": "code",
   "execution_count": 59,
   "metadata": {},
   "outputs": [
    {
     "name": "stdout",
     "output_type": "stream",
     "text": [
      "различия не значимы\n"
     ]
    }
   ],
   "source": [
    "print('различия не значимы' if ss.chi2_contingency(CRcross_)[1] >= 0.05 else 'различия значимы')"
   ]
  },
  {
   "cell_type": "markdown",
   "metadata": {},
   "source": [
    "да, результат не изменился, нет оснований отвергнуть нулевую гипотезу о том, что конверсии в платежи для этих групп не отличаются"
   ]
  },
  {
   "cell_type": "markdown",
   "metadata": {},
   "source": [
    "Отмечу также, что изменение (увеличение) конверсии всех пользователей в пользователей совершившивших покупки, так же не являятся значимым:"
   ]
  },
  {
   "cell_type": "code",
   "execution_count": 60,
   "metadata": {},
   "outputs": [
    {
     "name": "stdout",
     "output_type": "stream",
     "text": [
      "различия не значимы\n"
     ]
    }
   ],
   "source": [
    "print('различия не значимы' if ss.chi2_contingency(pd.crosstab(df['grp'], df['is_check']))[1] >= 0.05 else 'различия значимы')"
   ]
  },
  {
   "cell_type": "markdown",
   "metadata": {},
   "source": [
    "А вот изменение (снижение) конверсии всех пользователей, в пользователей посещаюх сайт значимо. Однако, как указал выше предмет исследования (новая механика платежей) на этот параметр не влияет. Все пользователи уникальные, поэтому здесь нет ситуации, когда пользователь пришёл на сайт, посмотрел на механику платежей, ушёл и оплатил как-то иначе. Данных об инфоканале между нашими пользователями тоже нет (есть подозрение, что наш сервис - LMS, а пользователи - студенты, но строго говоря об этом в задании 1 не говорится, но даже если это так, это ещё не означает, что все они состоят едином коммюнити)."
   ]
  },
  {
   "cell_type": "code",
   "execution_count": 61,
   "metadata": {},
   "outputs": [
    {
     "name": "stdout",
     "output_type": "stream",
     "text": [
      "различия значимы\n"
     ]
    }
   ],
   "source": [
    "print('различия не значимы' if ss.chi2_contingency(pd.crosstab(df['grp'], df['active']))[1] >= 0.05 else 'различия значимы')"
   ]
  },
  {
   "cell_type": "markdown",
   "metadata": {},
   "source": [
    "#### 2. средний чек на активного пользователя (ARPAU)\n",
    "\n",
    "для ARPAU нулевая гипотеза будет означать, что ARPAU для групп B и A значимо не отличаются, альтернативная - что отличаются"
   ]
  },
  {
   "cell_type": "code",
   "execution_count": 62,
   "metadata": {},
   "outputs": [
    {
     "data": {
      "image/png": "[encoded data removed]",
      "text/plain": [
       "<Figure size 720x360 with 1 Axes>"
      ]
     },
     "metadata": {
      "needs_background": "light"
     },
     "output_type": "display_data"
    }
   ],
   "source": [
    "# посмотрим на распределение чеков для  активных пользователей - конечно нормальным оно не выглядит\n",
    "plt.figure(figsize=(10, 5))\n",
    "actdf['rev'].hist(bins = 20);"
   ]
  },
  {
   "cell_type": "code",
   "execution_count": 63,
   "metadata": {},
   "outputs": [],
   "source": [
    "# Выделение данных для каждой группы\n",
    "ARPAU_A = df[(df['grp'] == 'A') & (df['active'] == 1)]['rev']\n",
    "ARPAU_B = df[(df['grp'] == 'B') & (df['active'] == 1)]['rev']"
   ]
  },
  {
   "cell_type": "code",
   "execution_count": 64,
   "metadata": {},
   "outputs": [
    {
     "name": "stdout",
     "output_type": "stream",
     "text": [
      "p-value для A\tp-value для B\n",
      "0.0\t\t0.0\n"
     ]
    }
   ],
   "source": [
    "# и предсказуемо таковым не является (тест на нормальность Пирсона-Д'Агостино), но данных достаточно много, чтобы можно было \n",
    "# проверить t-тестом\n",
    "print('p-value для A', 'p-value для B', sep = '\\t')\n",
    "print(ss.normaltest(ARPAU_A)[1], ss.normaltest(ARPAU_B)[1], sep = '\\t\\t')"
   ]
  },
  {
   "cell_type": "code",
   "execution_count": 65,
   "metadata": {},
   "outputs": [
    {
     "data": {
      "text/plain": [
       "Ttest_indResult(statistic=-1.286373849379703, pvalue=0.19843583641451018)"
      ]
     },
     "execution_count": 65,
     "metadata": {},
     "output_type": "execute_result"
    }
   ],
   "source": [
    "# Проведение t-теста для несбалансированных выборок\n",
    "ss.ttest_ind(ARPAU_A, ARPAU_B, equal_var=False)"
   ]
  },
  {
   "cell_type": "code",
   "execution_count": 66,
   "metadata": {},
   "outputs": [
    {
     "name": "stdout",
     "output_type": "stream",
     "text": [
      "различия не значимы\n"
     ]
    }
   ],
   "source": [
    "# Вывод результатов\n",
    "print('различия не значимы' if ss.ttest_ind(ARPAU_A, ARPAU_B, equal_var=False)[1] >= 0.05 else 'различия значимы')"
   ]
  },
  {
   "cell_type": "markdown",
   "metadata": {},
   "source": [
    "p-value гораздо больше 0.05, нет оснований отклонить нулевую гипотезу и считать, что средний чек на активного пользователя значимо изменился в тестовой группе"
   ]
  },
  {
   "cell_type": "markdown",
   "metadata": {},
   "source": [
    "#### 3. средний чек на платящего пользователя (ARPPU)\n",
    "\n",
    "для ARPPU нулевая гипотеза будет означать, что ARPPU для групп B и A значимо не отличаются, альтернативная - что отличаются"
   ]
  },
  {
   "cell_type": "code",
   "execution_count": 67,
   "metadata": {},
   "outputs": [],
   "source": [
    "# Выделение данных (платящих пользователей) для каждой группы \n",
    "ARPPU_A = df[(df['grp'] == 'A') & (df['is_check'] == 1)]['rev']\n",
    "ARPPU_B = df[(df['grp'] == 'B') & (df['is_check'] == 1)]['rev']"
   ]
  },
  {
   "cell_type": "code",
   "execution_count": 68,
   "metadata": {},
   "outputs": [
    {
     "data": {
      "text/plain": [
       "pandas.core.series.Series"
      ]
     },
     "execution_count": 68,
     "metadata": {},
     "output_type": "execute_result"
    }
   ],
   "source": [
    "type(ARPPU_A)"
   ]
  },
  {
   "cell_type": "code",
   "execution_count": 69,
   "metadata": {},
   "outputs": [
    {
     "data": {
      "image/png": "[encoded data removed]",
      "text/plain": [
       "<Figure size 1224x504 with 1 Axes>"
      ]
     },
     "metadata": {
      "needs_background": "light"
     },
     "output_type": "display_data"
    }
   ],
   "source": [
    "# здесь конечно тоже распределения нормальными не выглядят. Пользуясь случаем отметим по гистограмме, что хотя диапазон \n",
    "# значений чеков в обеих группах близкий, но в целевой группе (В) есть 2 явных всплеска - значения до 1000 и около 1800, в \n",
    "# контрольной группе (A) - только до 1000 (да, мы тут учитываем, что график для A д.б. примерно в 4 раза выше из-за дисбаланса).\n",
    "# Т.е. в контрольной группе относительно мало средних чеков.\n",
    "plt.figure(figsize=(17, 7))\n",
    "ARPPU_A.hist(bins = 20, label='rev A')\n",
    "ARPPU_B.hist(bins = 20, label='rev B', alpha=0.4);\n",
    "plt.legend();"
   ]
  },
  {
   "cell_type": "code",
   "execution_count": 70,
   "metadata": {},
   "outputs": [
    {
     "name": "stdout",
     "output_type": "stream",
     "text": [
      "для А 1.4986822893803264e-10\n",
      "для В 1.5437024585965894e-16\n"
     ]
    }
   ],
   "source": [
    "# проверяем - и предсказуемо распределение нормальным не является (тест Шапиро)\n",
    "print(f'для А {ss.shapiro(ARPPU_A)[1]}', f'для В {ss.shapiro(ARPPU_B)[1]}', sep = '\\n')"
   ]
  },
  {
   "cell_type": "code",
   "execution_count": 71,
   "metadata": {},
   "outputs": [
    {
     "name": "stdout",
     "output_type": "stream",
     "text": [
      "A\tB\n",
      "78\t314\n"
     ]
    }
   ],
   "source": [
    "# посмотрим сколько у нас платящих клиентов\n",
    "print('A', 'B', sep = '\\t')\n",
    "print(df[(df['grp'] == 'A') & (df['is_check'] == 1)].shape[0], \n",
    "      df[(df['grp'] == 'B') & (df['is_check'] == 1)].shape[0], sep = '\\t')"
   ]
  },
  {
   "cell_type": "markdown",
   "metadata": {},
   "source": [
    "наблюдений в принципе больше 30 но не слишком, поэтому здесь применим бутстреп"
   ]
  },
  {
   "cell_type": "code",
   "execution_count": 72,
   "metadata": {},
   "outputs": [
    {
     "name": "stdout",
     "output_type": "stream",
     "text": [
      "для выборки А ConfidenceInterval(low=754.9358974358975, high=1168.993379814125)\n",
      "для выборки В ConfidenceInterval(low=1172.7629493957163, high=1347.9516754733695)\n"
     ]
    }
   ],
   "source": [
    "# применяем бутстреп\n",
    "ARPPU_A_ar = ARPPU_A.values\n",
    "ARPPU_B_ar = ARPPU_B.values\n",
    "bsres_A_ = ss.bootstrap((ARPPU_A_ar, ), np.mean, n_resamples=15000)\n",
    "bsres_B_ = ss.bootstrap((ARPPU_B_ar, ), np.mean, n_resamples=15000)\n",
    "print(f'для выборки А {bsres_A_.confidence_interval}', f'для выборки В {bsres_B_.confidence_interval}', sep = '\\n')"
   ]
  },
  {
   "cell_type": "code",
   "execution_count": 73,
   "metadata": {},
   "outputs": [
    {
     "name": "stdout",
     "output_type": "stream",
     "text": [
      "стнд ошибка для выборки А 103.85047899254339\n",
      "стнд ошибка для выборки В 44.60395875605886\n"
     ]
    }
   ],
   "source": [
    "print(f'стнд ошибка для выборки А {bsres_A_.standard_error}', f'стнд ошибка для выборки В {bsres_B_.standard_error}', sep ='\\n')"
   ]
  },
  {
   "cell_type": "markdown",
   "metadata": {},
   "source": [
    "интервалы средних не пересекаются (хотя и с минимальной разницой), значит можно сделать вывод о не слишком уверенной значимостьи различий ARPPU, в том смысле, что средний чек на платящего пользователя при новом механизмеплатежей увеличился, основную гипотезу отклоняем"
   ]
  },
  {
   "cell_type": "markdown",
   "metadata": {},
   "source": [
    "##### замечание про моды групп\n",
    "\n",
    "На гистограмме ниже, я показываю в чём существенная разница в распределении чеков групп A и B (масштаб гистограммы для группы А искусственно увеличен, так, чтобы нивелировать дисбаланс наблюдений): в контрольной группе (B) относительно целевой (A) наиболее распростаненными были чеки с суммой близкой к минимальной 290, а в целелевой наиболее расростаненными были 1900 (ещё на ячейку ниже представлены характеристики чеков для платящих пользователей по группам).   \n",
    "Группе разработчиков механики оплаты услуг на сайте надо проверить чем вызван всплеск оплат за 1900 в тестовой группе и связано ли это с новой механикой: в последующих двух ячейках можно убедится, что услуга за 290 есть и в тестовой группе (с новой механикой) и в контрольной группе (с базовой механикой), а вот в контрольной группе услуги за 1900 (и 1900.0001) не выбрал никто, возможно этой популярной услуги вообще не было в базовой механике платежей и это и есть причина роста среднего чека как вариант. Если же услуга за 1900 (и 1900.0001) была и в базовой механике, но в группу A были отобраны пользователи, которые по каккой-то причине ей не могут воспользоваться независимо от мехники платежей - то это ошибка разбиения на группы, т.к. группы получаются не одинаковы по структуре. В условии денежные единицы не указаны, поэтому нет оснований видеть ошибку или неточность в размерности услуги за 1900.0001, возможно это какая-то криптовалюта, для которой это вполне корректная дробная часть."
   ]
  },
  {
   "cell_type": "code",
   "execution_count": 74,
   "metadata": {},
   "outputs": [
    {
     "data": {
      "image/png": "[encoded data removed]",
      "text/plain": [
       "<Figure size 1224x720 with 1 Axes>"
      ]
     },
     "metadata": {
      "needs_background": "light"
     },
     "output_type": "display_data"
    }
   ],
   "source": [
    "plt.figure(figsize=(17, 10))\n",
    "# вес для отображения распределений в одном масштабе:\n",
    "weights_A = np.ones_like(ARPPU_A) * (len(df[df['grp'] == 'B']) / len(df[df['grp'] == 'A'])) \n",
    "ARPPU_A.hist(bins = 25, label='rev A', alpha=0.7, weights=weights_A)\n",
    "ARPPU_B.hist(bins = 25, label='rev B', alpha=0.4);\n",
    "plt.xlabel('чек')\n",
    "plt.ylabel('Частота')\n",
    "plt.legend();"
   ]
  },
  {
   "cell_type": "code",
   "execution_count": 75,
   "metadata": {},
   "outputs": [
    {
     "data": {
      "text/html": [
       "<div>\n",
       "<style scoped>\n",
       "    .dataframe tbody tr th:only-of-type {\n",
       "        vertical-align: middle;\n",
       "    }\n",
       "\n",
       "    .dataframe tbody tr th {\n",
       "        vertical-align: top;\n",
       "    }\n",
       "\n",
       "    .dataframe thead th {\n",
       "        text-align: right;\n",
       "    }\n",
       "</style>\n",
       "<table border=\"1\" class=\"dataframe\">\n",
       "  <thead>\n",
       "    <tr style=\"text-align: right;\">\n",
       "      <th></th>\n",
       "      <th>grp</th>\n",
       "      <th>check_mean</th>\n",
       "      <th>check_median</th>\n",
       "      <th>check_mode</th>\n",
       "      <th>check_min</th>\n",
       "      <th>check_max</th>\n",
       "    </tr>\n",
       "  </thead>\n",
       "  <tbody>\n",
       "    <tr>\n",
       "      <th>0</th>\n",
       "      <td>A</td>\n",
       "      <td>933.589744</td>\n",
       "      <td>585.0</td>\n",
       "      <td>290.0</td>\n",
       "      <td>199.0</td>\n",
       "      <td>3660.0</td>\n",
       "    </tr>\n",
       "    <tr>\n",
       "      <th>1</th>\n",
       "      <td>B</td>\n",
       "      <td>1257.878992</td>\n",
       "      <td>1140.0</td>\n",
       "      <td>1900.0</td>\n",
       "      <td>199.0</td>\n",
       "      <td>4650.0</td>\n",
       "    </tr>\n",
       "  </tbody>\n",
       "</table>\n",
       "</div>"
      ],
      "text/plain": [
       "  grp   check_mean  check_median  check_mode  check_min  check_max\n",
       "0   A   933.589744         585.0       290.0      199.0     3660.0\n",
       "1   B  1257.878992        1140.0      1900.0      199.0     4650.0"
      ]
     },
     "execution_count": 75,
     "metadata": {},
     "output_type": "execute_result"
    }
   ],
   "source": [
    "# центральные характеристики чеков для платящих пользователей: средняя, медиана, мода, минмум и максимум\n",
    "df[df['is_check'] == 1].groupby('grp', as_index = False). \\\n",
    "    agg(check_mean = ('rev', 'mean'), check_median = ('rev', 'median'), check_mode=('rev', lambda x: x.mode().iloc[0]),\n",
    "       check_min = ('rev', 'min'), check_max = ('rev', 'max'))"
   ]
  },
  {
   "cell_type": "code",
   "execution_count": 76,
   "metadata": {},
   "outputs": [
    {
     "data": {
      "text/plain": [
       "290.0     25\n",
       "580.0      6\n",
       "990.0      5\n",
       "590.0      5\n",
       "199.0      5\n",
       "690.0      4\n",
       "840.0      3\n",
       "3660.0     3\n",
       "1530.0     3\n",
       "1160.0     2\n",
       "1140.0     2\n",
       "2820.0     2\n",
       "489.0      2\n",
       "2910.0     2\n",
       "2900.0     1\n",
       "1830.0     1\n",
       "2220.0     1\n",
       "1980.0     1\n",
       "870.0      1\n",
       "398.0      1\n",
       "2890.0     1\n",
       "1180.0     1\n",
       "1039.0     1\n",
       "Name: rev, dtype: int64"
      ]
     },
     "execution_count": 76,
     "metadata": {},
     "output_type": "execute_result"
    }
   ],
   "source": [
    "# стоимость услуг в группе A по убыванию количества покупок, видно, что здесь нет 1900.0000 и 1900.0001\n",
    "ARPPU_A.value_counts()"
   ]
  },
  {
   "cell_type": "code",
   "execution_count": 77,
   "metadata": {},
   "outputs": [
    {
     "data": {
      "text/plain": [
       "1900.0000    93\n",
       "290.0000     45\n",
       "1900.0001    35\n",
       "199.0000     27\n",
       "840.0000     21\n",
       "990.0000     17\n",
       "690.0000     13\n",
       "1140.0000     9\n",
       "398.0000      6\n",
       "590.0000      6\n",
       "1530.0000     5\n",
       "580.0000      5\n",
       "870.0000      5\n",
       "2099.0000     3\n",
       "2890.0000     3\n",
       "1980.0000     2\n",
       "2910.0000     2\n",
       "3660.0000     2\n",
       "1968.0000     1\n",
       "880.0000      1\n",
       "3040.0000     1\n",
       "796.0000      1\n",
       "2190.0000     1\n",
       "1160.0000     1\n",
       "1729.0000     1\n",
       "2220.0000     1\n",
       "4650.0000     1\n",
       "1339.0000     1\n",
       "1388.0000     1\n",
       "489.0000      1\n",
       "3260.0000     1\n",
       "1050.0000     1\n",
       "597.0000      1\n",
       "Name: rev, dtype: int64"
      ]
     },
     "execution_count": 77,
     "metadata": {},
     "output_type": "execute_result"
    }
   ],
   "source": [
    "# стоимость услуг в группе B по убыванию количества покупок\n",
    "ARPPU_B.value_counts()"
   ]
  },
  {
   "cell_type": "code",
   "execution_count": 78,
   "metadata": {},
   "outputs": [
    {
     "data": {
      "text/plain": [
       "2820.0    2\n",
       "1039.0    1\n",
       "1180.0    1\n",
       "2900.0    1\n",
       "1830.0    1\n",
       "Name: rev, dtype: int64"
      ]
     },
     "execution_count": 78,
     "metadata": {},
     "output_type": "execute_result"
    }
   ],
   "source": [
    "# ещё раз отдельно - услуги (и их частота) из группы A, которых нет в группе B\n",
    "ARPPU_A[ARPPU_A.isin(ARPPU_A[~ARPPU_A.isin(ARPPU_B)].unique())].value_counts()"
   ]
  },
  {
   "cell_type": "code",
   "execution_count": 79,
   "metadata": {},
   "outputs": [
    {
     "data": {
      "text/plain": [
       "1900.0000    93\n",
       "1900.0001    35\n",
       "2099.0000     3\n",
       "2190.0000     1\n",
       "4650.0000     1\n",
       "597.0000      1\n",
       "1050.0000     1\n",
       "1339.0000     1\n",
       "3260.0000     1\n",
       "1729.0000     1\n",
       "1968.0000     1\n",
       "1388.0000     1\n",
       "796.0000      1\n",
       "3040.0000     1\n",
       "880.0000      1\n",
       "Name: rev, dtype: int64"
      ]
     },
     "execution_count": 79,
     "metadata": {},
     "output_type": "execute_result"
    }
   ],
   "source": [
    "# здесь - услуги (и их частота) из группы B, которых нет в группе A. Хорошо видно, что услуги за 1900 и 1900.0001 очень \n",
    "# выделяются по частоте\n",
    "ARPPU_B[ARPPU_B.isin(ARPPU_B[~ARPPU_B.isin(ARPPU_A)].unique())].value_counts()"
   ]
  },
  {
   "cell_type": "markdown",
   "metadata": {},
   "source": [
    "#### Выводы\n",
    "\n",
    "Как показали результаты тестов, при применении новой механики платежей изменения конверсии активных пользователей в пользователей совершивших покупки и среднего чека на антивных пользователей значимыми не являются, но изменение (увеличение) чека на платящих пользователей значимо.   \n",
    "\n",
    "Можно порекомендовать группе реализовывающей AB-тест проверить корректоность разбиения пользователей на группы (см. выше замечание про дисбаланс групп) и проверить то, что появление услуг за 1900 и 1900.0001 в целевой группе B связано с внедрением новой механики оплаты услуг на сайте (см. выше замечание про моды групп). В случае если всё верно - можно рекомендовать внедрение новой механики оплаты услуг на сайте на всех пользователей, т.к. она увеличивает средний чек на платещего пользователя (ARPPU) за счёт предпочтения более дорогих услуг."
   ]
  }
 ],
 "metadata": {
  "kernelspec": {
   "display_name": "Python 3",
   "language": "python",
   "name": "python3"
  },
  "language_info": {
   "codemirror_mode": {
    "name": "ipython",
    "version": 3
   },
   "file_extension": ".py",
   "mimetype": "text/x-python",
   "name": "python",
   "nbconvert_exporter": "python",
   "pygments_lexer": "ipython3",
   "version": "3.7.3"
  }
 },
 "nbformat": 4,
 "nbformat_minor": 4
}
